{
  "nbformat": 4,
  "nbformat_minor": 0,
  "metadata": {
    "kernelspec": {
      "display_name": "Python 3",
      "language": "python",
      "name": "python3"
    },
    "language_info": {
      "codemirror_mode": {
        "name": "ipython",
        "version": 3
      },
      "file_extension": ".py",
      "mimetype": "text/x-python",
      "name": "python",
      "nbconvert_exporter": "python",
      "pygments_lexer": "ipython3",
      "version": "3.7.6"
    },
    "colab": {
      "name": "Day5codefile.ipynb",
      "provenance": []
    }
  },
  "cells": [
    {
      "cell_type": "markdown",
      "metadata": {
        "id": "aOBxmpcsZv4Q",
        "colab_type": "text"
      },
      "source": [
        "# Modules and Packages"
      ]
    },
    {
      "cell_type": "code",
      "metadata": {
        "id": "a9SuhLYzZv4U",
        "colab_type": "code",
        "colab": {}
      },
      "source": [
        "# import the library\n",
        "import math"
      ],
      "execution_count": 1,
      "outputs": []
    },
    {
      "cell_type": "code",
      "metadata": {
        "id": "1QtFfTr0Zv4k",
        "colab_type": "code",
        "colab": {
          "base_uri": "https://localhost:8080/",
          "height": 34
        },
        "outputId": "db30a06a-45ba-479c-eba9-33bae2609562"
      },
      "source": [
        "# use it (exponentional value)\n",
        "math.exp(3)"
      ],
      "execution_count": 2,
      "outputs": [
        {
          "output_type": "execute_result",
          "data": {
            "text/plain": [
              "20.085536923187668"
            ]
          },
          "metadata": {
            "tags": []
          },
          "execution_count": 2
        }
      ]
    },
    {
      "cell_type": "code",
      "metadata": {
        "id": "YMIwtaYyZv40",
        "colab_type": "code",
        "colab": {
          "base_uri": "https://localhost:8080/",
          "height": 54
        },
        "outputId": "b6e552f1-7809-4574-df99-da25bd673d32"
      },
      "source": [
        "print(dir(math))"
      ],
      "execution_count": 3,
      "outputs": [
        {
          "output_type": "stream",
          "text": [
            "['__doc__', '__loader__', '__name__', '__package__', '__spec__', 'acos', 'acosh', 'asin', 'asinh', 'atan', 'atan2', 'atanh', 'ceil', 'copysign', 'cos', 'cosh', 'degrees', 'e', 'erf', 'erfc', 'exp', 'expm1', 'fabs', 'factorial', 'floor', 'fmod', 'frexp', 'fsum', 'gamma', 'gcd', 'hypot', 'inf', 'isclose', 'isfinite', 'isinf', 'isnan', 'ldexp', 'lgamma', 'log', 'log10', 'log1p', 'log2', 'modf', 'nan', 'pi', 'pow', 'radians', 'sin', 'sinh', 'sqrt', 'tan', 'tanh', 'tau', 'trunc']\n"
          ],
          "name": "stdout"
        }
      ]
    },
    {
      "cell_type": "code",
      "metadata": {
        "id": "OClTENd4Zv5B",
        "colab_type": "code",
        "colab": {
          "base_uri": "https://localhost:8080/",
          "height": 134
        },
        "outputId": "ec90caf4-4320-4514-dc28-48e32d29cdfd"
      },
      "source": [
        "help(math.exp)"
      ],
      "execution_count": 4,
      "outputs": [
        {
          "output_type": "stream",
          "text": [
            "Help on built-in function exp in module math:\n",
            "\n",
            "exp(...)\n",
            "    exp(x)\n",
            "    \n",
            "    Return e raised to the power of x.\n",
            "\n"
          ],
          "name": "stdout"
        }
      ]
    },
    {
      "cell_type": "code",
      "metadata": {
        "id": "5Isl7IosZv5O",
        "colab_type": "code",
        "colab": {
          "base_uri": "https://localhost:8080/",
          "height": 134
        },
        "outputId": "db637369-e1ee-403e-d176-dd68e033543b"
      },
      "source": [
        "help(math.pow)"
      ],
      "execution_count": 5,
      "outputs": [
        {
          "output_type": "stream",
          "text": [
            "Help on built-in function pow in module math:\n",
            "\n",
            "pow(...)\n",
            "    pow(x, y)\n",
            "    \n",
            "    Return x**y (x to the power of y).\n",
            "\n"
          ],
          "name": "stdout"
        }
      ]
    },
    {
      "cell_type": "code",
      "metadata": {
        "id": "WirELGNKZv5a",
        "colab_type": "code",
        "colab": {
          "base_uri": "https://localhost:8080/",
          "height": 313
        },
        "outputId": "39c51d90-2378-4329-f1f1-f1c2bb17ef94"
      },
      "source": [
        "# Just an example, this won't work\n",
        "import foo.bar"
      ],
      "execution_count": 7,
      "outputs": [
        {
          "output_type": "error",
          "ename": "ModuleNotFoundError",
          "evalue": "ignored",
          "traceback": [
            "\u001b[0;31m---------------------------------------------------------------------------\u001b[0m",
            "\u001b[0;31mModuleNotFoundError\u001b[0m                       Traceback (most recent call last)",
            "\u001b[0;32m<ipython-input-7-abb01b7fa285>\u001b[0m in \u001b[0;36m<module>\u001b[0;34m()\u001b[0m\n\u001b[1;32m      1\u001b[0m \u001b[0;31m# Just an example, this won't work\u001b[0m\u001b[0;34m\u001b[0m\u001b[0;34m\u001b[0m\u001b[0;34m\u001b[0m\u001b[0m\n\u001b[0;32m----> 2\u001b[0;31m \u001b[0;32mimport\u001b[0m \u001b[0mfoo\u001b[0m\u001b[0;34m\u001b[0m\u001b[0;34m\u001b[0m\u001b[0m\n\u001b[0m",
            "\u001b[0;31mModuleNotFoundError\u001b[0m: No module named 'foo'",
            "",
            "\u001b[0;31m---------------------------------------------------------------------------\u001b[0;32m\nNOTE: If your import is failing due to a missing package, you can\nmanually install dependencies using either !pip or !apt.\n\nTo view examples of installing some common dependencies, click the\n\"Open Examples\" button below.\n\u001b[0;31m---------------------------------------------------------------------------\u001b[0m\n"
          ]
        }
      ]
    },
    {
      "cell_type": "code",
      "metadata": {
        "id": "bhL7PR_zZv5j",
        "colab_type": "code",
        "colab": {
          "base_uri": "https://localhost:8080/",
          "height": 34
        },
        "outputId": "aab520ae-8b65-4fd8-b8a0-3d865f85d925"
      },
      "source": [
        "print('Hello')# if there is any quote at the end of the line it gives End of Line Error (EOL) while scanning the string literal."
      ],
      "execution_count": 8,
      "outputs": [
        {
          "output_type": "stream",
          "text": [
            "Hello\n"
          ],
          "name": "stdout"
        }
      ]
    },
    {
      "cell_type": "code",
      "metadata": {
        "id": "hZcrL2pEZv5u",
        "colab_type": "code",
        "colab": {
          "base_uri": "https://localhost:8080/",
          "height": 229
        },
        "outputId": "44a5884a-123a-4dfe-f700-4dd2c3559073"
      },
      "source": [
        "try:\n",
        "    f = open('testfile','w')\n",
        "    f.read('write this file')\n",
        "except IOError:\n",
        "    # This will only check for an IOError exception and then execute this print statement\n",
        "   print(\"Error: Could not find file or read data\")\n",
        "else:\n",
        "   print(\"Content written successfully\")\n",
        "   f.close()"
      ],
      "execution_count": 9,
      "outputs": [
        {
          "output_type": "error",
          "ename": "TypeError",
          "evalue": "ignored",
          "traceback": [
            "\u001b[0;31m---------------------------------------------------------------------------\u001b[0m",
            "\u001b[0;31mTypeError\u001b[0m                                 Traceback (most recent call last)",
            "\u001b[0;32m<ipython-input-9-72ae5a52a814>\u001b[0m in \u001b[0;36m<module>\u001b[0;34m()\u001b[0m\n\u001b[1;32m      1\u001b[0m \u001b[0;32mtry\u001b[0m\u001b[0;34m:\u001b[0m\u001b[0;34m\u001b[0m\u001b[0;34m\u001b[0m\u001b[0m\n\u001b[1;32m      2\u001b[0m     \u001b[0mf\u001b[0m \u001b[0;34m=\u001b[0m \u001b[0mopen\u001b[0m\u001b[0;34m(\u001b[0m\u001b[0;34m'testfile'\u001b[0m\u001b[0;34m,\u001b[0m\u001b[0;34m'w'\u001b[0m\u001b[0;34m)\u001b[0m\u001b[0;34m\u001b[0m\u001b[0;34m\u001b[0m\u001b[0m\n\u001b[0;32m----> 3\u001b[0;31m     \u001b[0mf\u001b[0m\u001b[0;34m.\u001b[0m\u001b[0mread\u001b[0m\u001b[0;34m(\u001b[0m\u001b[0;34m'write this file'\u001b[0m\u001b[0;34m)\u001b[0m\u001b[0;34m\u001b[0m\u001b[0;34m\u001b[0m\u001b[0m\n\u001b[0m\u001b[1;32m      4\u001b[0m \u001b[0;32mexcept\u001b[0m \u001b[0mIOError\u001b[0m\u001b[0;34m:\u001b[0m\u001b[0;34m\u001b[0m\u001b[0;34m\u001b[0m\u001b[0m\n\u001b[1;32m      5\u001b[0m     \u001b[0;31m# This will only check for an IOError exception and then execute this print statement\u001b[0m\u001b[0;34m\u001b[0m\u001b[0;34m\u001b[0m\u001b[0;34m\u001b[0m\u001b[0m\n",
            "\u001b[0;31mTypeError\u001b[0m: integer argument expected, got 'str'"
          ]
        }
      ]
    },
    {
      "cell_type": "code",
      "metadata": {
        "id": "CUSXEw7dZv53",
        "colab_type": "code",
        "colab": {
          "base_uri": "https://localhost:8080/",
          "height": 34
        },
        "outputId": "c7dff33e-2a19-48de-8b6d-43cb9e7fc803"
      },
      "source": [
        "try:\n",
        "    f = open('testfile','r')\n",
        "    f.write('write this file')\n",
        "except IOError:\n",
        "    # This will only check for an IOError exception and then execute this print statement\n",
        "   print(\"Error: Could not find file or read data\")\n",
        "else:\n",
        "   print(\"Content written successfully\")\n",
        "   f.close()"
      ],
      "execution_count": 10,
      "outputs": [
        {
          "output_type": "stream",
          "text": [
            "Error: Could not find file or read data\n"
          ],
          "name": "stdout"
        }
      ]
    },
    {
      "cell_type": "code",
      "metadata": {
        "id": "3rHKQrjHZv6A",
        "colab_type": "code",
        "colab": {},
        "outputId": "1b524254-0b63-4c08-a711-d04236953d21"
      },
      "source": [
        "try:\n",
        "    f = open('testfile','w')\n",
        "    f.write('write this file')\n",
        "except IOError:\n",
        "    # This will check for any exception and then execute this print statement\n",
        "   print(\"Error: Could not find file or read data\")\n",
        "else:\n",
        "   print(\"Content written successfully\")\n",
        "   f.close()"
      ],
      "execution_count": null,
      "outputs": [
        {
          "output_type": "stream",
          "text": [
            "Content written successfully\n"
          ],
          "name": "stdout"
        }
      ]
    },
    {
      "cell_type": "code",
      "metadata": {
        "id": "sjfqP_krZv6L",
        "colab_type": "code",
        "colab": {},
        "outputId": "0dde076b-46d7-41a4-d618-06958448af43"
      },
      "source": [
        "try:\n",
        "   f = open(\"robo.text\" , \"w\")\n",
        "   f.write(\"airobosoft\")\n",
        "finally:\n",
        "            print(\"airobosoft is a company\")"
      ],
      "execution_count": null,
      "outputs": [
        {
          "output_type": "stream",
          "text": [
            "airobosoft is a company\n"
          ],
          "name": "stdout"
        }
      ]
    },
    {
      "cell_type": "code",
      "metadata": {
        "id": "JBdhH3FFZv6U",
        "colab_type": "code",
        "colab": {}
      },
      "source": [
        "def askint():\n",
        "        try:\n",
        "            val = int(input(\"Please enter an number: \"))\n",
        "        except:\n",
        "            print(\"Looks like you did not enter an number or entered a string \")\n",
        "            \n",
        "        finally:\n",
        "            print(\"Finally, It executed!\")\n",
        "        print(val)       "
      ],
      "execution_count": null,
      "outputs": []
    },
    {
      "cell_type": "code",
      "metadata": {
        "id": "bPA5-vsKZv6d",
        "colab_type": "code",
        "colab": {},
        "outputId": "d71db967-f1b7-47d4-8ec4-64024c9ba887"
      },
      "source": [
        "askint()"
      ],
      "execution_count": null,
      "outputs": [
        {
          "output_type": "stream",
          "text": [
            "Please enter an number: sadiya\n",
            "Looks like you did not enter an number or entered a string \n",
            "Finally, It executed!\n"
          ],
          "name": "stdout"
        },
        {
          "output_type": "error",
          "ename": "UnboundLocalError",
          "evalue": "local variable 'val' referenced before assignment",
          "traceback": [
            "\u001b[1;31m---------------------------------------------------------------------------\u001b[0m",
            "\u001b[1;31mUnboundLocalError\u001b[0m                         Traceback (most recent call last)",
            "\u001b[1;32m<ipython-input-13-cc291aa76c10>\u001b[0m in \u001b[0;36m<module>\u001b[1;34m\u001b[0m\n\u001b[1;32m----> 1\u001b[1;33m \u001b[0maskint\u001b[0m\u001b[1;33m(\u001b[0m\u001b[1;33m)\u001b[0m\u001b[1;33m\u001b[0m\u001b[1;33m\u001b[0m\u001b[0m\n\u001b[0m",
            "\u001b[1;32m<ipython-input-12-de11380acd4e>\u001b[0m in \u001b[0;36maskint\u001b[1;34m()\u001b[0m\n\u001b[0;32m      7\u001b[0m         \u001b[1;32mfinally\u001b[0m\u001b[1;33m:\u001b[0m\u001b[1;33m\u001b[0m\u001b[1;33m\u001b[0m\u001b[0m\n\u001b[0;32m      8\u001b[0m             \u001b[0mprint\u001b[0m\u001b[1;33m(\u001b[0m\u001b[1;34m\"Finally, It executed!\"\u001b[0m\u001b[1;33m)\u001b[0m\u001b[1;33m\u001b[0m\u001b[1;33m\u001b[0m\u001b[0m\n\u001b[1;32m----> 9\u001b[1;33m         \u001b[0mprint\u001b[0m\u001b[1;33m(\u001b[0m\u001b[0mval\u001b[0m\u001b[1;33m)\u001b[0m\u001b[1;33m\u001b[0m\u001b[1;33m\u001b[0m\u001b[0m\n\u001b[0m",
            "\u001b[1;31mUnboundLocalError\u001b[0m: local variable 'val' referenced before assignment"
          ]
        }
      ]
    },
    {
      "cell_type": "code",
      "metadata": {
        "id": "tLwytNiTZv6m",
        "colab_type": "code",
        "colab": {},
        "outputId": "00292915-2dc3-465a-c7ae-2e9f1d7bbbb8"
      },
      "source": [
        "askint()"
      ],
      "execution_count": null,
      "outputs": [
        {
          "output_type": "stream",
          "text": [
            "Please enter an number: 2\n",
            "Finally, It executed!\n",
            "2\n"
          ],
          "name": "stdout"
        }
      ]
    },
    {
      "cell_type": "markdown",
      "metadata": {
        "id": "fgEsZ6TQZv6u",
        "colab_type": "text"
      },
      "source": [
        " we got an error when trying to print val (because it was properly assigned), the right solution is checked by giving the input type as integer:"
      ]
    },
    {
      "cell_type": "code",
      "metadata": {
        "id": "PFiBwGFzZv6v",
        "colab_type": "code",
        "colab": {}
      },
      "source": [
        "def askint():\n",
        "        try:\n",
        "            val = int(input(\"Please enter an number: \"))\n",
        "        except:\n",
        "            print(\"Looks like you did not enter an integer! or you entered a string\")\n",
        "            val = int(input(\"Retry-Please enter an number: \"))\n",
        "        finally:\n",
        "            print(\"Finally, I executed!\")\n",
        "        print(val) "
      ],
      "execution_count": 14,
      "outputs": []
    },
    {
      "cell_type": "code",
      "metadata": {
        "id": "YQt-bs5YZv64",
        "colab_type": "code",
        "colab": {
          "base_uri": "https://localhost:8080/",
          "height": 67
        },
        "outputId": "bb2f067d-91dd-4d5e-9b58-7a41ead142d0"
      },
      "source": [
        "askint()"
      ],
      "execution_count": 12,
      "outputs": [
        {
          "output_type": "stream",
          "text": [
            "Please enter an number: 19\n",
            "Finally, I executed!\n",
            "19\n"
          ],
          "name": "stdout"
        }
      ]
    },
    {
      "cell_type": "code",
      "metadata": {
        "id": "SwkkcLfXZv7A",
        "colab_type": "code",
        "colab": {
          "base_uri": "https://localhost:8080/",
          "height": 67
        },
        "outputId": "2f65b754-d2e2-4750-f926-26d086f5bd8c"
      },
      "source": [
        "askint()"
      ],
      "execution_count": 13,
      "outputs": [
        {
          "output_type": "stream",
          "text": [
            "Please enter an number: 24\n",
            "Finally, I executed!\n",
            "24\n"
          ],
          "name": "stdout"
        }
      ]
    },
    {
      "cell_type": "markdown",
      "metadata": {
        "id": "y9f3CqoyZv7I",
        "colab_type": "text"
      },
      "source": [
        "only numbers should be given other than that it gives error.."
      ]
    },
    {
      "cell_type": "code",
      "metadata": {
        "scrolled": true,
        "id": "1HHz_4LAZv7W",
        "colab_type": "code",
        "colab": {
          "base_uri": "https://localhost:8080/",
          "height": 67
        },
        "outputId": "8c785a2e-bc7f-466b-88e6-5b4c2c2d9e1c"
      },
      "source": [
        "askint()"
      ],
      "execution_count": 17,
      "outputs": [
        {
          "output_type": "stream",
          "text": [
            "Please enter an number: 24\n",
            "Yep thats an number!\n",
            "Finally, I executed!\n"
          ],
          "name": "stdout"
        }
      ]
    },
    {
      "cell_type": "markdown",
      "metadata": {
        "id": "u_n0xktEZv7f",
        "colab_type": "text"
      },
      "source": [
        "## Database connectivity and operations using Python.\n"
      ]
    },
    {
      "cell_type": "code",
      "metadata": {
        "id": "MhRATT2PZv7h",
        "colab_type": "code",
        "colab": {},
        "outputId": "0e3acfc7-14b3-444f-db5a-0321b556c68e"
      },
      "source": [
        "#!/usr/bin/python\n",
        "\n",
        "import sqlite3\n",
        "#connecting with the database.\n",
        "\n",
        "db = sqlite3.connect(\"my_database1.db\")\n",
        "\n",
        "# Drop table if it already exist using execute() method.\n",
        "db.execute(\"drop table if exists grades1\")\n",
        "\n",
        "# Create table as per requirement\n",
        "db.execute(\"create table grades1(id int, place text, score int)\")\n",
        "\n",
        "#inserting values inside the created table\n",
        "db.execute(\"insert into grades1(id, place, score) values(1, 'udupi',98 )\")\n",
        "db.execute(\"insert into grades1(id, place, score) values(2, 'dakshin kannada',97 )\")\n",
        "db.execute(\"insert into grades1(id, place, score) values(3, 'kodagu', 96 )\")\n",
        "db.execute(\"insert into grades1(id, place, score) values(4, 'uttara kannada', 95 )\")\n",
        "db.execute(\"insert into grades1(id, place, score) values(5, 'chikmangalore',60 )\")\n",
        "db.execute(\"insert into grades1(id, place, score) values(6, 'gulbarga',30 )\")\n",
        "db.execute(\"insert into grades1(id, place, score) values(7, 'bellary',90 )\")\n"
      ],
      "execution_count": null,
      "outputs": [
        {
          "output_type": "execute_result",
          "data": {
            "text/plain": [
              "<sqlite3.Cursor at 0x1c91a87a110>"
            ]
          },
          "metadata": {
            "tags": []
          },
          "execution_count": 20
        }
      ]
    },
    {
      "cell_type": "code",
      "metadata": {
        "id": "qQ_fxARmZv7o",
        "colab_type": "code",
        "colab": {}
      },
      "source": [
        "db.commit()\n"
      ],
      "execution_count": null,
      "outputs": []
    },
    {
      "cell_type": "code",
      "metadata": {
        "id": "RID0Y4fVZv7t",
        "colab_type": "code",
        "colab": {},
        "outputId": "98d5ecad-4106-451f-cada-aba42a01f438"
      },
      "source": [
        "results = db.execute(\"select * from grades1 order by id\")\n",
        "for row in results:\n",
        "    print(row)\n",
        "print(\"-\" * 60 )"
      ],
      "execution_count": null,
      "outputs": [
        {
          "output_type": "stream",
          "text": [
            "(1, 'udupi', 98)\n",
            "(2, 'dakshin kannada', 97)\n",
            "(3, 'kodagu', 96)\n",
            "(4, 'uttara kannada', 95)\n",
            "(5, 'chikmangalore', 60)\n",
            "(6, 'gulbarga', 30)\n",
            "(7, 'bellary', 90)\n",
            "------------------------------------------------------------\n"
          ],
          "name": "stdout"
        }
      ]
    },
    {
      "cell_type": "code",
      "metadata": {
        "id": "IX_yGVnHZv7y",
        "colab_type": "code",
        "colab": {},
        "outputId": "9d03420c-59b5-4083-cb19-e3cbd10d0c27"
      },
      "source": [
        "results = db.execute(\"select * from grades1 where place = 'uttara kannada' \")\n",
        "for row in results:\n",
        "    print(row)\n",
        "print(\"-\" * 60 )"
      ],
      "execution_count": null,
      "outputs": [
        {
          "output_type": "stream",
          "text": [
            "(4, 'uttara kannada', 95)\n",
            "------------------------------------------------------------\n"
          ],
          "name": "stdout"
        }
      ]
    },
    {
      "cell_type": "code",
      "metadata": {
        "id": "ml1A3r1xZv73",
        "colab_type": "code",
        "colab": {},
        "outputId": "8ae81248-3aa1-44a3-ad89-0efed19f4fe5"
      },
      "source": [
        "results = db.execute(\"select * from grades1 where score <= 90 \")\n",
        "for row in results:\n",
        "    print(row)\n",
        "print(\"-\" * 60 )"
      ],
      "execution_count": null,
      "outputs": [
        {
          "output_type": "stream",
          "text": [
            "(5, 'chikmangalore', 60)\n",
            "(6, 'gulbarga', 30)\n",
            "(7, 'bellary', 90)\n",
            "------------------------------------------------------------\n"
          ],
          "name": "stdout"
        }
      ]
    },
    {
      "cell_type": "code",
      "metadata": {
        "id": "jfprZQSMZv77",
        "colab_type": "code",
        "colab": {},
        "outputId": "9c9db0cb-26d2-4525-97bf-d48e575be23c"
      },
      "source": [
        "results = db.execute(\"select place, score from grades1 order by score desc \")\n",
        "for row in results:\n",
        "    print(row)\n",
        "print(\"-\" * 60 )"
      ],
      "execution_count": null,
      "outputs": [
        {
          "output_type": "stream",
          "text": [
            "('udupi', 98)\n",
            "('dakshin kannada', 97)\n",
            "('kodagu', 96)\n",
            "('uttara kannada', 95)\n",
            "('bellary', 90)\n",
            "('chikmangalore', 60)\n",
            "('gulbarga', 30)\n",
            "------------------------------------------------------------\n"
          ],
          "name": "stdout"
        }
      ]
    },
    {
      "cell_type": "code",
      "metadata": {
        "id": "P4TB_DBTZv7_",
        "colab_type": "code",
        "colab": {},
        "outputId": "74e8c728-bfee-4ba6-bdb2-e755fe82524a"
      },
      "source": [
        "results = db.execute(\"select place, score from grades1 order by score\")\n",
        "for row in results:\n",
        "    print(row)\n",
        "print(\"-\" * 60 )"
      ],
      "execution_count": null,
      "outputs": [
        {
          "output_type": "stream",
          "text": [
            "('gulbarga', 30)\n",
            "('chikmangalore', 60)\n",
            "('bellary', 90)\n",
            "('uttara kannada', 95)\n",
            "('kodagu', 96)\n",
            "('dakshin kannada', 97)\n",
            "('udupi', 98)\n",
            "------------------------------------------------------------\n"
          ],
          "name": "stdout"
        }
      ]
    },
    {
      "cell_type": "code",
      "metadata": {
        "id": "puaM16rKZv8C",
        "colab_type": "code",
        "colab": {},
        "outputId": "020492c4-0646-4ec6-9a2d-3ba9de23330b"
      },
      "source": [
        "results = db.execute(\"select place, score from grades1 order by score\")\n",
        "for row in results:\n",
        "    print(row)"
      ],
      "execution_count": null,
      "outputs": [
        {
          "output_type": "stream",
          "text": [
            "('gulbarga', 30)\n",
            "('chikmangalore', 60)\n",
            "('bellary', 90)\n",
            "('uttara kannada', 95)\n",
            "('kodagu', 96)\n",
            "('dakshin kannada', 97)\n",
            "('udupi', 98)\n"
          ],
          "name": "stdout"
        }
      ]
    }
  ]
}