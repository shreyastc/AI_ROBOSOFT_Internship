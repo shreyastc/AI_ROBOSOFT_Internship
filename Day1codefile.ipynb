{
  "nbformat": 4,
  "nbformat_minor": 0,
  "metadata": {
    "kernelspec": {
      "display_name": "Python 3",
      "language": "python",
      "name": "python3"
    },
    "language_info": {
      "codemirror_mode": {
        "name": "ipython",
        "version": 3
      },
      "file_extension": ".py",
      "mimetype": "text/x-python",
      "name": "python",
      "nbconvert_exporter": "python",
      "pygments_lexer": "ipython3",
      "version": "3.7.6"
    },
    "colab": {
      "name": "Copy of Day1codefile.ipynb",
      "provenance": []
    }
  },
  "cells": [
    {
      "cell_type": "code",
      "metadata": {
        "id": "CB1K9zjcCRMi",
        "colab_type": "code",
        "colab": {},
        "outputId": "eaa59f07-0ce0-43b7-d43e-d1d46bfb654a"
      },
      "source": [
        "# integers\n",
        "x=2\n",
        "type(x)"
      ],
      "execution_count": null,
      "outputs": [
        {
          "output_type": "execute_result",
          "data": {
            "text/plain": [
              "int"
            ]
          },
          "metadata": {
            "tags": []
          },
          "execution_count": 1
        }
      ]
    },
    {
      "cell_type": "code",
      "metadata": {
        "id": "d4Wu6WcHCRMn",
        "colab_type": "code",
        "colab": {},
        "outputId": "e359fa9e-c737-46db-a600-496d8368509c"
      },
      "source": [
        "# float\n",
        "x=3.1\n",
        "type(x)"
      ],
      "execution_count": null,
      "outputs": [
        {
          "output_type": "execute_result",
          "data": {
            "text/plain": [
              "float"
            ]
          },
          "metadata": {
            "tags": []
          },
          "execution_count": 2
        }
      ]
    },
    {
      "cell_type": "code",
      "metadata": {
        "id": "3yA5UFXbCRMq",
        "colab_type": "code",
        "colab": {},
        "outputId": "341bded4-29ef-4c0d-ac49-c5ecf642297e"
      },
      "source": [
        "# boolean\n",
        "a1 = True\n",
        "a2 = False\n",
        "\n",
        "type(a1)"
      ],
      "execution_count": null,
      "outputs": [
        {
          "output_type": "execute_result",
          "data": {
            "text/plain": [
              "bool"
            ]
          },
          "metadata": {
            "tags": []
          },
          "execution_count": 3
        }
      ]
    },
    {
      "cell_type": "code",
      "metadata": {
        "id": "gTWhLOsLCRMs",
        "colab_type": "code",
        "colab": {},
        "outputId": "24346cac-397d-43e3-9d53-150d8a256f38"
      },
      "source": [
        "# string\n",
        "name = 'Airobosoft'\n",
        "type(name)"
      ],
      "execution_count": null,
      "outputs": [
        {
          "output_type": "execute_result",
          "data": {
            "text/plain": [
              "str"
            ]
          },
          "metadata": {
            "tags": []
          },
          "execution_count": 4
        }
      ]
    },
    {
      "cell_type": "code",
      "metadata": {
        "id": "Ovtgot7MCRMv",
        "colab_type": "code",
        "colab": {},
        "outputId": "eefb0061-0294-46f8-d2f8-c0e0f117db6c"
      },
      "source": [
        "# complex numbers: note the use of `j` to specify the imaginary part\n",
        "x = 3.0 - 2.0j\n",
        "type(x)"
      ],
      "execution_count": null,
      "outputs": [
        {
          "output_type": "execute_result",
          "data": {
            "text/plain": [
              "complex"
            ]
          },
          "metadata": {
            "tags": []
          },
          "execution_count": 5
        }
      ]
    },
    {
      "cell_type": "code",
      "metadata": {
        "scrolled": true,
        "id": "PyVMChHzCRMx",
        "colab_type": "code",
        "colab": {},
        "outputId": "10db95fc-9cee-4b3e-c94d-859fafa4c6ad"
      },
      "source": [
        "print(x)"
      ],
      "execution_count": null,
      "outputs": [
        {
          "output_type": "stream",
          "text": [
            "(3-2j)\n"
          ],
          "name": "stdout"
        }
      ]
    },
    {
      "cell_type": "code",
      "metadata": {
        "scrolled": true,
        "id": "GWpKjzMrCRM0",
        "colab_type": "code",
        "colab": {},
        "outputId": "36e6fec7-066c-4d18-d8e5-9ce4e0c6f81f"
      },
      "source": [
        "print(x.real, x.imag)"
      ],
      "execution_count": null,
      "outputs": [
        {
          "output_type": "stream",
          "text": [
            "3.0 -2.0\n"
          ],
          "name": "stdout"
        }
      ]
    },
    {
      "cell_type": "code",
      "metadata": {
        "id": "rpkGGfmyCRM4",
        "colab_type": "code",
        "colab": {},
        "outputId": "32a25e89-e951-4d72-8e9c-a2344e313b00"
      },
      "source": [
        "sixth = 6\n",
        "two = 2\n",
        "print(two)\n",
        "sixth"
      ],
      "execution_count": null,
      "outputs": [
        {
          "output_type": "stream",
          "text": [
            "2\n"
          ],
          "name": "stdout"
        },
        {
          "output_type": "execute_result",
          "data": {
            "text/plain": [
              "6"
            ]
          },
          "metadata": {
            "tags": []
          },
          "execution_count": 8
        }
      ]
    },
    {
      "cell_type": "code",
      "metadata": {
        "id": "gMcTxC1QCRM6",
        "colab_type": "code",
        "colab": {},
        "outputId": "1e8ee4ae-9372-4993-f803-5ec2d296b832"
      },
      "source": [
        "ten = '10'\n",
        "ten"
      ],
      "execution_count": null,
      "outputs": [
        {
          "output_type": "execute_result",
          "data": {
            "text/plain": [
              "'10'"
            ]
          },
          "metadata": {
            "tags": []
          },
          "execution_count": 9
        }
      ]
    },
    {
      "cell_type": "code",
      "metadata": {
        "id": "yln5LXmfCRM9",
        "colab_type": "code",
        "colab": {},
        "outputId": "e9e42738-a84c-4d1c-842d-d6a8aceda7b4"
      },
      "source": [
        "tenth = 'ten'\n",
        "tenth"
      ],
      "execution_count": null,
      "outputs": [
        {
          "output_type": "execute_result",
          "data": {
            "text/plain": [
              "'ten'"
            ]
          },
          "metadata": {
            "tags": []
          },
          "execution_count": 11
        }
      ]
    },
    {
      "cell_type": "markdown",
      "metadata": {
        "id": "z9pXSOWfCRNB",
        "colab_type": "text"
      },
      "source": [
        "This behavior is different from some other loosely-typed languages. If you were to do the same thing in JavaScript, you would get a different result.\n",
        "\n",
        "In Python, however, it is possible to change the type of an object through builtin functions."
      ]
    },
    {
      "cell_type": "code",
      "metadata": {
        "id": "GMBHoF-6CRNB",
        "colab_type": "code",
        "colab": {},
        "outputId": "e883647c-d9a8-4feb-8229-81a1d17fc629"
      },
      "source": [
        "'Day ' + str(5)"
      ],
      "execution_count": null,
      "outputs": [
        {
          "output_type": "execute_result",
          "data": {
            "text/plain": [
              "'Day 5'"
            ]
          },
          "metadata": {
            "tags": []
          },
          "execution_count": 13
        }
      ]
    },
    {
      "cell_type": "code",
      "metadata": {
        "id": "jcKAWMUqCRNE",
        "colab_type": "code",
        "colab": {},
        "outputId": "d2d2cf11-83d4-47c6-c9e5-18ba8ae54d28"
      },
      "source": [
        "True and True"
      ],
      "execution_count": null,
      "outputs": [
        {
          "output_type": "execute_result",
          "data": {
            "text/plain": [
              "True"
            ]
          },
          "metadata": {
            "tags": []
          },
          "execution_count": 14
        }
      ]
    },
    {
      "cell_type": "code",
      "metadata": {
        "id": "XumXG11uCRNG",
        "colab_type": "code",
        "colab": {},
        "outputId": "efe65c5a-e248-4e37-f2a1-769d2d7285b8"
      },
      "source": [
        "True or False"
      ],
      "execution_count": null,
      "outputs": [
        {
          "output_type": "execute_result",
          "data": {
            "text/plain": [
              "True"
            ]
          },
          "metadata": {
            "tags": []
          },
          "execution_count": 15
        }
      ]
    },
    {
      "cell_type": "code",
      "metadata": {
        "id": "4lpNpjiMCRNI",
        "colab_type": "code",
        "colab": {},
        "outputId": "ca52379b-0777-48f3-b9ec-7e08df62f137"
      },
      "source": [
        "not True"
      ],
      "execution_count": null,
      "outputs": [
        {
          "output_type": "execute_result",
          "data": {
            "text/plain": [
              "False"
            ]
          },
          "metadata": {
            "tags": []
          },
          "execution_count": 16
        }
      ]
    },
    {
      "cell_type": "code",
      "metadata": {
        "id": "Nh-d8WeNCRNL",
        "colab_type": "code",
        "colab": {},
        "outputId": "2eaa18c8-01ef-4f30-df1b-81dee90a91c3"
      },
      "source": [
        "not False"
      ],
      "execution_count": null,
      "outputs": [
        {
          "output_type": "execute_result",
          "data": {
            "text/plain": [
              "True"
            ]
          },
          "metadata": {
            "tags": []
          },
          "execution_count": 17
        }
      ]
    },
    {
      "cell_type": "code",
      "metadata": {
        "id": "9ftPeqzyCRNN",
        "colab_type": "code",
        "colab": {},
        "outputId": "5b6c1dec-3565-4a19-a94b-9b91a1e97c1c"
      },
      "source": [
        "True is True"
      ],
      "execution_count": null,
      "outputs": [
        {
          "output_type": "execute_result",
          "data": {
            "text/plain": [
              "True"
            ]
          },
          "metadata": {
            "tags": []
          },
          "execution_count": 18
        }
      ]
    },
    {
      "cell_type": "code",
      "metadata": {
        "id": "p52YJrE7CRNP",
        "colab_type": "code",
        "colab": {},
        "outputId": "5d426b63-cbf3-4a19-a013-922e0d14cbe7"
      },
      "source": [
        "True is False"
      ],
      "execution_count": null,
      "outputs": [
        {
          "output_type": "execute_result",
          "data": {
            "text/plain": [
              "False"
            ]
          },
          "metadata": {
            "tags": []
          },
          "execution_count": 19
        }
      ]
    },
    {
      "cell_type": "code",
      "metadata": {
        "id": "s7jfpHaLCRNR",
        "colab_type": "code",
        "colab": {},
        "outputId": "801be9cb-fa21-491f-9ce2-db450de5b704"
      },
      "source": [
        "'s' is 's'"
      ],
      "execution_count": null,
      "outputs": [
        {
          "output_type": "execute_result",
          "data": {
            "text/plain": [
              "True"
            ]
          },
          "metadata": {
            "tags": []
          },
          "execution_count": 20
        }
      ]
    },
    {
      "cell_type": "code",
      "metadata": {
        "id": "0Ka83gnVCRNT",
        "colab_type": "code",
        "colab": {},
        "outputId": "3ebf1995-f814-4528-f39b-76a62aea4eb1"
      },
      "source": [
        "i = 3\n",
        "if i < 3:\n",
        "    print('less than 3')\n",
        "elif i < 5:\n",
        "    print('less than 5')\n",
        "else:\n",
        "    print('5 or more')\n"
      ],
      "execution_count": null,
      "outputs": [
        {
          "output_type": "stream",
          "text": [
            "less than 5\n"
          ],
          "name": "stdout"
        }
      ]
    },
    {
      "cell_type": "code",
      "metadata": {
        "id": "BnWNWl8VCRNV",
        "colab_type": "code",
        "colab": {},
        "outputId": "47820b55-cc7e-4f70-c640-ec83fff48697"
      },
      "source": [
        "i=9\n",
        "if i < 3:\n",
        "    print('less than 3')\n",
        "elif i < 5:\n",
        "    print('less than 5')\n",
        "else:\n",
        "    print('5 or more')\n",
        "    "
      ],
      "execution_count": null,
      "outputs": [
        {
          "output_type": "stream",
          "text": [
            "5 or more\n"
          ],
          "name": "stdout"
        }
      ]
    },
    {
      "cell_type": "code",
      "metadata": {
        "id": "rsfzaPokCRNY",
        "colab_type": "code",
        "colab": {},
        "outputId": "e52453d4-8160-4749-efcb-c1f6292b29c3"
      },
      "source": [
        "S = []\n",
        "S"
      ],
      "execution_count": null,
      "outputs": [
        {
          "output_type": "execute_result",
          "data": {
            "text/plain": [
              "[]"
            ]
          },
          "metadata": {
            "tags": []
          },
          "execution_count": 25
        }
      ]
    },
    {
      "cell_type": "code",
      "metadata": {
        "id": "Mw5SycJjCRNa",
        "colab_type": "code",
        "colab": {},
        "outputId": "9c12f426-2fe4-4ce4-8dda-424c1de1b306"
      },
      "source": [
        "S = list()\n",
        "S"
      ],
      "execution_count": null,
      "outputs": [
        {
          "output_type": "execute_result",
          "data": {
            "text/plain": [
              "[]"
            ]
          },
          "metadata": {
            "tags": []
          },
          "execution_count": 26
        }
      ]
    },
    {
      "cell_type": "code",
      "metadata": {
        "id": "TLOmbz1mCRNc",
        "colab_type": "code",
        "colab": {},
        "outputId": "7d56c28e-8d4f-463f-8408-df226c5e2579"
      },
      "source": [
        "S = ['e', 'f', 'g']\n",
        "print(S)\n",
        "type(S)"
      ],
      "execution_count": null,
      "outputs": [
        {
          "output_type": "stream",
          "text": [
            "['e', 'f', 'g']\n"
          ],
          "name": "stdout"
        },
        {
          "output_type": "execute_result",
          "data": {
            "text/plain": [
              "list"
            ]
          },
          "metadata": {
            "tags": []
          },
          "execution_count": 27
        }
      ]
    },
    {
      "cell_type": "code",
      "metadata": {
        "id": "mbpygL-7CRNe",
        "colab_type": "code",
        "colab": {},
        "outputId": "d3921317-6efc-4507-c878-c4a22ac0449d"
      },
      "source": [
        "S = ['a',5]\n",
        "S"
      ],
      "execution_count": null,
      "outputs": [
        {
          "output_type": "execute_result",
          "data": {
            "text/plain": [
              "['a', 5]"
            ]
          },
          "metadata": {
            "tags": []
          },
          "execution_count": 28
        }
      ]
    },
    {
      "cell_type": "code",
      "metadata": {
        "id": "6hF1HYc0CRNj",
        "colab_type": "code",
        "colab": {},
        "outputId": "3bf445cb-3e78-4650-f775-5f6852a5b1a9"
      },
      "source": [
        "l2 = list(S)\n",
        "l2\n"
      ],
      "execution_count": null,
      "outputs": [
        {
          "output_type": "execute_result",
          "data": {
            "text/plain": [
              "['a', 5]"
            ]
          },
          "metadata": {
            "tags": []
          },
          "execution_count": 29
        }
      ]
    },
    {
      "cell_type": "code",
      "metadata": {
        "id": "fgOq3maBCRNm",
        "colab_type": "code",
        "colab": {},
        "outputId": "ac59ce92-902d-4b7c-e487-6a4194d95008"
      },
      "source": [
        "list('abcdef')"
      ],
      "execution_count": null,
      "outputs": [
        {
          "output_type": "execute_result",
          "data": {
            "text/plain": [
              "['a', 'b', 'c', 'd', 'e', 'f']"
            ]
          },
          "metadata": {
            "tags": []
          },
          "execution_count": 30
        }
      ]
    },
    {
      "cell_type": "code",
      "metadata": {
        "id": "qNxiBqneCRNo",
        "colab_type": "code",
        "colab": {},
        "outputId": "a6227a87-202a-4fb6-bbe5-fa80e15a9205"
      },
      "source": [
        "l= [1 , 2]\n",
        "print(l)\n",
        "l.append('a')\n",
        "print(l)\n",
        "l.append('b')\n",
        "print(l)\n",
        "l.insert(2,3)\n",
        "l"
      ],
      "execution_count": null,
      "outputs": [
        {
          "output_type": "stream",
          "text": [
            "[1, 2]\n",
            "[1, 2, 'a']\n",
            "[1, 2, 'a', 'b']\n"
          ],
          "name": "stdout"
        },
        {
          "output_type": "execute_result",
          "data": {
            "text/plain": [
              "[1, 2, 3, 'a', 'b']"
            ]
          },
          "metadata": {
            "tags": []
          },
          "execution_count": 31
        }
      ]
    },
    {
      "cell_type": "code",
      "metadata": {
        "id": "44zqERHCCRNq",
        "colab_type": "code",
        "colab": {},
        "outputId": "8d742f8e-c2d3-423f-bcca-1f35cf767e66"
      },
      "source": [
        "for i in l:\n",
        "    print(i)"
      ],
      "execution_count": null,
      "outputs": [
        {
          "output_type": "stream",
          "text": [
            "1\n",
            "2\n",
            "3\n",
            "a\n",
            "b\n"
          ],
          "name": "stdout"
        }
      ]
    },
    {
      "cell_type": "code",
      "metadata": {
        "id": "hHIxuNYnCRNs",
        "colab_type": "code",
        "colab": {},
        "outputId": "088f2456-9d74-4ba9-93c7-3920042d1e5b"
      },
      "source": [
        "# Program to find the sum of all numbers stored in a list\n",
        "\n",
        "# List of numbers\n",
        "numbers = [1 , 2 , 3 , 4 , 5 , 6]\n",
        "\n",
        "# variable to store the sum\n",
        "sum = 0\n",
        "\n",
        "# iterate over the list\n",
        "for i in numbers:\n",
        "    sum = sum + i\n",
        "\n",
        "# Output: The sum is 48\n",
        "print(\"The sum is\", sum)\n",
        "sum\n"
      ],
      "execution_count": null,
      "outputs": [
        {
          "output_type": "stream",
          "text": [
            "The sum is 21\n"
          ],
          "name": "stdout"
        },
        {
          "output_type": "execute_result",
          "data": {
            "text/plain": [
              "21"
            ]
          },
          "metadata": {
            "tags": []
          },
          "execution_count": 33
        }
      ]
    },
    {
      "cell_type": "code",
      "metadata": {
        "id": "thcmLJUPCRNu",
        "colab_type": "code",
        "colab": {},
        "outputId": "7ec5fb8a-06b7-4a00-a7a2-020199ff78bb"
      },
      "source": [
        "digits = [0, 1, 2 , 3 ]\n",
        "\n",
        "for i in digits:\n",
        "    print(i)\n",
        "else:\n",
        "    print(\"No items left.\")"
      ],
      "execution_count": null,
      "outputs": [
        {
          "output_type": "stream",
          "text": [
            "0\n",
            "1\n",
            "2\n",
            "3\n",
            "No items left.\n"
          ],
          "name": "stdout"
        }
      ]
    },
    {
      "cell_type": "code",
      "metadata": {
        "scrolled": true,
        "id": "yV9qrg6mCRNw",
        "colab_type": "code",
        "colab": {},
        "outputId": "87b6b5d8-16df-4f56-e5a3-503ffb3197ba"
      },
      "source": [
        "# Program to add natural\n",
        "# numbers upto \n",
        "# sum = 1+2+3+...+n\n",
        "\n",
        "# To take input from the user,\n",
        "n = int(input(\"Enter n: \"))\n",
        "\n",
        "\n",
        "# initialize sum and counter\n",
        "sum = 0\n",
        "i = 1\n",
        "\n",
        "while i <= n:\n",
        "    sum = sum + i\n",
        "    i = i+1    # update counter\n",
        "\n",
        "# print the sum\n",
        "print(\"The sum is\", sum)"
      ],
      "execution_count": null,
      "outputs": [
        {
          "output_type": "stream",
          "text": [
            "Enter n: 6\n",
            "The sum is 21\n"
          ],
          "name": "stdout"
        }
      ]
    },
    {
      "cell_type": "code",
      "metadata": {
        "id": "dHEnUdCLCRNy",
        "colab_type": "code",
        "colab": {},
        "outputId": "62f91155-701c-4b0a-cd15-13d00328bd43"
      },
      "source": [
        "print(range(8))"
      ],
      "execution_count": null,
      "outputs": [
        {
          "output_type": "stream",
          "text": [
            "range(0, 8)\n"
          ],
          "name": "stdout"
        }
      ]
    },
    {
      "cell_type": "code",
      "metadata": {
        "id": "aMFBgo23CRN0",
        "colab_type": "code",
        "colab": {},
        "outputId": "5b2a7caa-9c3c-4b51-9ec9-3730faf8b4f4"
      },
      "source": [
        "print(list(range(8)))"
      ],
      "execution_count": null,
      "outputs": [
        {
          "output_type": "stream",
          "text": [
            "[0, 1, 2, 3, 4, 5, 6, 7]\n"
          ],
          "name": "stdout"
        }
      ]
    },
    {
      "cell_type": "code",
      "metadata": {
        "id": "x5ipgb4iCRN2",
        "colab_type": "code",
        "colab": {},
        "outputId": "40c82745-5364-410b-f59c-b95c3799b44b"
      },
      "source": [
        "print(list(range(2, 6)))"
      ],
      "execution_count": null,
      "outputs": [
        {
          "output_type": "stream",
          "text": [
            "[2, 3, 4, 5]\n"
          ],
          "name": "stdout"
        }
      ]
    },
    {
      "cell_type": "code",
      "metadata": {
        "id": "qUpdI0HvCRN4",
        "colab_type": "code",
        "colab": {},
        "outputId": "efd8c08b-7e61-4bf7-ea9b-71387b2ab694"
      },
      "source": [
        "print(list(range(2, 30, 4)))"
      ],
      "execution_count": null,
      "outputs": [
        {
          "output_type": "stream",
          "text": [
            "[2, 6, 10, 14, 18, 22, 26]\n"
          ],
          "name": "stdout"
        }
      ]
    },
    {
      "cell_type": "code",
      "metadata": {
        "id": "hFEAxGtOCRN6",
        "colab_type": "code",
        "colab": {},
        "outputId": "c14eb2ec-8f77-4f71-fa27-484bdee8afb8"
      },
      "source": [
        "# Program to iterate through a list using indexing\n",
        "\n",
        "genre = ['car', 'bike', 'bus','cycle']\n",
        "\n",
        "# iterate over the list using index\n",
        "for i in range(len(genre)):\n",
        "    print(\"I like\", genre[i])"
      ],
      "execution_count": null,
      "outputs": [
        {
          "output_type": "stream",
          "text": [
            "I like car\n",
            "I like bike\n",
            "I like bus\n",
            "I like cycle\n"
          ],
          "name": "stdout"
        }
      ]
    },
    {
      "cell_type": "code",
      "metadata": {
        "id": "_BEvaSiJCRN8",
        "colab_type": "code",
        "colab": {},
        "outputId": "8012f1de-8c83-4064-d10a-19c84e743e2d"
      },
      "source": [
        "# Use of break statement inside loop\n",
        "\n",
        "for val in \"AIROBOSOFT\":\n",
        "    if val == \"O\":\n",
        "        break\n",
        "    print(val)\n",
        "\n",
        "print(\"The end\")"
      ],
      "execution_count": null,
      "outputs": [
        {
          "output_type": "stream",
          "text": [
            "A\n",
            "I\n",
            "R\n",
            "The end\n"
          ],
          "name": "stdout"
        }
      ]
    },
    {
      "cell_type": "code",
      "metadata": {
        "id": "6StIXV3PCRN-",
        "colab_type": "code",
        "colab": {},
        "outputId": "c60e6c2a-be9f-44fa-ee49-287bf21c3744"
      },
      "source": [
        "# Program to show the use of continue statement inside loops\n",
        "\n",
        "for val in \"AIROBOSOFT\":\n",
        "    if val == \"O\":\n",
        "        continue\n",
        "    print(val)\n",
        "\n",
        "print(\"The end\")"
      ],
      "execution_count": null,
      "outputs": [
        {
          "output_type": "stream",
          "text": [
            "A\n",
            "I\n",
            "R\n",
            "B\n",
            "S\n",
            "F\n",
            "T\n",
            "The end\n"
          ],
          "name": "stdout"
        }
      ]
    },
    {
      "cell_type": "code",
      "metadata": {
        "id": "l3j4Am-7CRN_",
        "colab_type": "code",
        "colab": {},
        "outputId": "b4ad8cb3-a3d2-44b2-89cb-dfb15d914414"
      },
      "source": [
        "# Program to take the input string from the user.\n",
        "\n",
        "name = input(\"What is your name?\\n \")\n",
        "type(name)"
      ],
      "execution_count": null,
      "outputs": [
        {
          "output_type": "stream",
          "text": [
            "What is your name?\n",
            " SADIYA\n"
          ],
          "name": "stdout"
        },
        {
          "output_type": "execute_result",
          "data": {
            "text/plain": [
              "str"
            ]
          },
          "metadata": {
            "tags": []
          },
          "execution_count": 8
        }
      ]
    },
    {
      "cell_type": "code",
      "metadata": {
        "id": "wekJBJbPCROB",
        "colab_type": "code",
        "colab": {},
        "outputId": "55141ff8-3fe4-4a5f-df61-33132dd43314"
      },
      "source": [
        "# Program to read integers from user\n",
        "\n",
        "age = int(input(\"What is your age? \"))\n",
        "print (\"Your age is: \", age)\n",
        "type(age)"
      ],
      "execution_count": null,
      "outputs": [
        {
          "output_type": "stream",
          "text": [
            "What is your age? 25\n",
            "Your age is:  25\n"
          ],
          "name": "stdout"
        },
        {
          "output_type": "execute_result",
          "data": {
            "text/plain": [
              "int"
            ]
          },
          "metadata": {
            "tags": []
          },
          "execution_count": 9
        }
      ]
    },
    {
      "cell_type": "code",
      "metadata": {
        "id": "BpyWTWOnCROE",
        "colab_type": "code",
        "colab": {
          "base_uri": "https://localhost:8080/",
          "height": 84
        },
        "outputId": "c24f8e4c-d543-427b-a7f1-c90963ba7ce3"
      },
      "source": [
        "# Let's have one more example\n",
        "\n",
        "name = input(\"What is your name? \")\n",
        "print (\" It was nice talking you \" + name + \"!\")\n",
        "age = input(\"Enter your age? \")\n",
        "print(\"Hey, you are already \" + age + \" years old, \" + name + \"!\")\n"
      ],
      "execution_count": null,
      "outputs": [
        {
          "output_type": "stream",
          "text": [
            "What is your name? Shreyas\n",
            " It was nice talking you Shreyas!\n",
            "Enter your age? 21\n",
            "Hey, you are already 21 years old, Shreyas!\n"
          ],
          "name": "stdout"
        }
      ]
    },
    {
      "cell_type": "code",
      "metadata": {
        "id": "RmCjjhtTCROG",
        "colab_type": "code",
        "colab": {}
      },
      "source": [
        ""
      ],
      "execution_count": null,
      "outputs": []
    }
  ]
}