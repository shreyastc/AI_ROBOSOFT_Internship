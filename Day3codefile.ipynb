{
  "nbformat": 4,
  "nbformat_minor": 0,
  "metadata": {
    "kernelspec": {
      "display_name": "Python 3",
      "language": "python",
      "name": "python3"
    },
    "language_info": {
      "codemirror_mode": {
        "name": "ipython",
        "version": 3
      },
      "file_extension": ".py",
      "mimetype": "text/x-python",
      "name": "python",
      "nbconvert_exporter": "python",
      "pygments_lexer": "ipython3",
      "version": "3.7.6"
    },
    "colab": {
      "name": "Day3codefile.ipynb",
      "provenance": []
    }
  },
  "cells": [
    {
      "cell_type": "code",
      "metadata": {
        "id": "M8QjB6zANlfs",
        "colab_type": "code",
        "colab": {}
      },
      "source": [
        "# Can create a tuple with mixed types\n",
        "t = (1 , 2 , 3 , 4 , 5, 8)"
      ],
      "execution_count": 1,
      "outputs": []
    },
    {
      "cell_type": "code",
      "metadata": {
        "id": "YMg6OfOYNlfw",
        "colab_type": "code",
        "colab": {
          "base_uri": "https://localhost:8080/",
          "height": 34
        },
        "outputId": "701342c6-d361-452e-9971-64fde6fea3d6"
      },
      "source": [
        "# Check len just like a list\n",
        "len(t)"
      ],
      "execution_count": 2,
      "outputs": [
        {
          "output_type": "execute_result",
          "data": {
            "text/plain": [
              "6"
            ]
          },
          "metadata": {
            "tags": []
          },
          "execution_count": 2
        }
      ]
    },
    {
      "cell_type": "code",
      "metadata": {
        "id": "FnvWlynLNlfz",
        "colab_type": "code",
        "colab": {
          "base_uri": "https://localhost:8080/",
          "height": 34
        },
        "outputId": "08133cf3-4e27-4175-d98b-84c3e6345076"
      },
      "source": [
        "# Can also mix object types\n",
        "t = ('one',2 , 'three' , 4 ,'five')\n",
        "\n",
        "# Show\n",
        "t"
      ],
      "execution_count": 4,
      "outputs": [
        {
          "output_type": "execute_result",
          "data": {
            "text/plain": [
              "('one', 2, 'three', 4, 'five')"
            ]
          },
          "metadata": {
            "tags": []
          },
          "execution_count": 4
        }
      ]
    },
    {
      "cell_type": "code",
      "metadata": {
        "id": "lJmisXmnNlf1",
        "colab_type": "code",
        "colab": {
          "base_uri": "https://localhost:8080/",
          "height": 35
        },
        "outputId": "2296d1db-7a15-455c-c770-d8a846434d16"
      },
      "source": [
        "# Use indexing just like we did in lists\n",
        "t[2]"
      ],
      "execution_count": 5,
      "outputs": [
        {
          "output_type": "execute_result",
          "data": {
            "application/vnd.google.colaboratory.intrinsic+json": {
              "type": "string"
            },
            "text/plain": [
              "'three'"
            ]
          },
          "metadata": {
            "tags": []
          },
          "execution_count": 5
        }
      ]
    },
    {
      "cell_type": "code",
      "metadata": {
        "id": "dis0eHELNlf4",
        "colab_type": "code",
        "colab": {
          "base_uri": "https://localhost:8080/",
          "height": 35
        },
        "outputId": "09bc5195-2423-4db2-d99e-8780e8c9d19d"
      },
      "source": [
        "# Slicing just like a list\n",
        "t[-1]"
      ],
      "execution_count": 6,
      "outputs": [
        {
          "output_type": "execute_result",
          "data": {
            "application/vnd.google.colaboratory.intrinsic+json": {
              "type": "string"
            },
            "text/plain": [
              "'five'"
            ]
          },
          "metadata": {
            "tags": []
          },
          "execution_count": 6
        }
      ]
    },
    {
      "cell_type": "code",
      "metadata": {
        "id": "MgeZn_rwNlf7",
        "colab_type": "code",
        "colab": {
          "base_uri": "https://localhost:8080/",
          "height": 34
        },
        "outputId": "f190eef2-9c01-4cc7-d34d-100c0bebe185"
      },
      "source": [
        "# Use .index to enter a value and return the index\n",
        "t.index('three')"
      ],
      "execution_count": 7,
      "outputs": [
        {
          "output_type": "execute_result",
          "data": {
            "text/plain": [
              "2"
            ]
          },
          "metadata": {
            "tags": []
          },
          "execution_count": 7
        }
      ]
    },
    {
      "cell_type": "code",
      "metadata": {
        "id": "Ii5Zcy30Nlf_",
        "colab_type": "code",
        "colab": {
          "base_uri": "https://localhost:8080/",
          "height": 34
        },
        "outputId": "4cb269ec-ca69-46e8-8b40-7b8a9328e0d6"
      },
      "source": [
        "# Use .count to count the number of times a value appears\n",
        "t.count('one')"
      ],
      "execution_count": 8,
      "outputs": [
        {
          "output_type": "execute_result",
          "data": {
            "text/plain": [
              "1"
            ]
          },
          "metadata": {
            "tags": []
          },
          "execution_count": 8
        }
      ]
    },
    {
      "cell_type": "code",
      "metadata": {
        "id": "sxrMNLRBNlgC",
        "colab_type": "code",
        "colab": {
          "base_uri": "https://localhost:8080/",
          "height": 34
        },
        "outputId": "96041734-ffd9-4a8b-f814-e9fa76c49aab"
      },
      "source": [
        "t.count('three')"
      ],
      "execution_count": 9,
      "outputs": [
        {
          "output_type": "execute_result",
          "data": {
            "text/plain": [
              "1"
            ]
          },
          "metadata": {
            "tags": []
          },
          "execution_count": 9
        }
      ]
    },
    {
      "cell_type": "markdown",
      "metadata": {
        "id": "hjz5vIpbNlgG",
        "colab_type": "text"
      },
      "source": [
        "Because tuple being immutable they can't grow. Once a tuple is made we can not add to it."
      ]
    },
    {
      "cell_type": "code",
      "metadata": {
        "id": "GNWbXOjrNlgH",
        "colab_type": "code",
        "colab": {
          "base_uri": "https://localhost:8080/",
          "height": 162
        },
        "outputId": "e3f6934c-7dd6-4b7b-b642-0055ec67dbb0"
      },
      "source": [
        "t.append(no)"
      ],
      "execution_count": 10,
      "outputs": [
        {
          "output_type": "error",
          "ename": "AttributeError",
          "evalue": "ignored",
          "traceback": [
            "\u001b[0;31m---------------------------------------------------------------------------\u001b[0m",
            "\u001b[0;31mAttributeError\u001b[0m                            Traceback (most recent call last)",
            "\u001b[0;32m<ipython-input-10-2d2927b6978c>\u001b[0m in \u001b[0;36m<module>\u001b[0;34m()\u001b[0m\n\u001b[0;32m----> 1\u001b[0;31m \u001b[0mt\u001b[0m\u001b[0;34m.\u001b[0m\u001b[0mappend\u001b[0m\u001b[0;34m(\u001b[0m\u001b[0mno\u001b[0m\u001b[0;34m)\u001b[0m\u001b[0;34m\u001b[0m\u001b[0;34m\u001b[0m\u001b[0m\n\u001b[0m",
            "\u001b[0;31mAttributeError\u001b[0m: 'tuple' object has no attribute 'append'"
          ]
        }
      ]
    },
    {
      "cell_type": "code",
      "metadata": {
        "id": "p6LU5kj2NlgM",
        "colab_type": "code",
        "colab": {}
      },
      "source": [
        "x = set()"
      ],
      "execution_count": null,
      "outputs": []
    },
    {
      "cell_type": "code",
      "metadata": {
        "id": "tKt1rrC2NlgO",
        "colab_type": "code",
        "colab": {}
      },
      "source": [
        "# We add to sets with the add() method\n",
        "x.add(1)"
      ],
      "execution_count": null,
      "outputs": []
    },
    {
      "cell_type": "code",
      "metadata": {
        "id": "kKVMWBorNlgR",
        "colab_type": "code",
        "colab": {},
        "outputId": "3276c708-1ef5-43bd-c0e9-3db2dff888b8"
      },
      "source": [
        "#Show\n",
        "x"
      ],
      "execution_count": null,
      "outputs": [
        {
          "output_type": "execute_result",
          "data": {
            "text/plain": [
              "{1}"
            ]
          },
          "metadata": {
            "tags": []
          },
          "execution_count": 13
        }
      ]
    },
    {
      "cell_type": "code",
      "metadata": {
        "id": "skdakGSFNlgT",
        "colab_type": "code",
        "colab": {},
        "outputId": "f342f167-3ba8-46dd-895d-ca23ec6bbc21"
      },
      "source": [
        "# we cannot add multiple arguments in add() method\n",
        "x=set()\n",
        "x.add(2,5,9)\n",
        "x"
      ],
      "execution_count": null,
      "outputs": [
        {
          "output_type": "error",
          "ename": "TypeError",
          "evalue": "add() takes exactly one argument (3 given)",
          "traceback": [
            "\u001b[1;31m---------------------------------------------------------------------------\u001b[0m",
            "\u001b[1;31mTypeError\u001b[0m                                 Traceback (most recent call last)",
            "\u001b[1;32m<ipython-input-14-0a8fcbacd634>\u001b[0m in \u001b[0;36m<module>\u001b[1;34m\u001b[0m\n\u001b[0;32m      1\u001b[0m \u001b[1;31m# we cannot add multiple arguments in add() method\u001b[0m\u001b[1;33m\u001b[0m\u001b[1;33m\u001b[0m\u001b[1;33m\u001b[0m\u001b[0m\n\u001b[0;32m      2\u001b[0m \u001b[0mx\u001b[0m\u001b[1;33m=\u001b[0m\u001b[0mset\u001b[0m\u001b[1;33m(\u001b[0m\u001b[1;33m)\u001b[0m\u001b[1;33m\u001b[0m\u001b[1;33m\u001b[0m\u001b[0m\n\u001b[1;32m----> 3\u001b[1;33m \u001b[0mx\u001b[0m\u001b[1;33m.\u001b[0m\u001b[0madd\u001b[0m\u001b[1;33m(\u001b[0m\u001b[1;36m2\u001b[0m\u001b[1;33m,\u001b[0m\u001b[1;36m5\u001b[0m\u001b[1;33m,\u001b[0m\u001b[1;36m9\u001b[0m\u001b[1;33m)\u001b[0m\u001b[1;33m\u001b[0m\u001b[1;33m\u001b[0m\u001b[0m\n\u001b[0m\u001b[0;32m      4\u001b[0m \u001b[0mx\u001b[0m\u001b[1;33m\u001b[0m\u001b[1;33m\u001b[0m\u001b[0m\n",
            "\u001b[1;31mTypeError\u001b[0m: add() takes exactly one argument (3 given)"
          ]
        }
      ]
    },
    {
      "cell_type": "code",
      "metadata": {
        "id": "PvcDo9j_NlgV",
        "colab_type": "code",
        "colab": {}
      },
      "source": [
        "# Add a different element \n",
        "x.add(9)"
      ],
      "execution_count": null,
      "outputs": []
    },
    {
      "cell_type": "code",
      "metadata": {
        "id": "yfMasd9dNlgX",
        "colab_type": "code",
        "colab": {},
        "outputId": "2e584d96-760f-4278-fb59-5d59c2cebe20"
      },
      "source": [
        "#Show\n",
        "x"
      ],
      "execution_count": null,
      "outputs": [
        {
          "output_type": "execute_result",
          "data": {
            "text/plain": [
              "{9}"
            ]
          },
          "metadata": {
            "tags": []
          },
          "execution_count": 16
        }
      ]
    },
    {
      "cell_type": "code",
      "metadata": {
        "id": "GAQ-nBG4NlgZ",
        "colab_type": "code",
        "colab": {},
        "outputId": "8b4df6da-12f3-4c3f-a3bd-f8abb8a3eca1"
      },
      "source": [
        "# Try to add the same element\n",
        "x.add(1)\n",
        "x"
      ],
      "execution_count": null,
      "outputs": [
        {
          "output_type": "execute_result",
          "data": {
            "text/plain": [
              "{1, 9}"
            ]
          },
          "metadata": {
            "tags": []
          },
          "execution_count": 17
        }
      ]
    },
    {
      "cell_type": "code",
      "metadata": {
        "id": "Dw9oJqVcNlgb",
        "colab_type": "code",
        "colab": {}
      },
      "source": [
        "# Create a list with repeats\n",
        "l = [1,1,2,2,3,4,5,6,1,1,9,25,25]"
      ],
      "execution_count": null,
      "outputs": []
    },
    {
      "cell_type": "code",
      "metadata": {
        "id": "ewAUbN9QNlgd",
        "colab_type": "code",
        "colab": {},
        "outputId": "fe4e41a6-58a9-46b1-a603-f0cbcce73e8c"
      },
      "source": [
        "# Cast as set to get unique values\n",
        "set(l)"
      ],
      "execution_count": null,
      "outputs": [
        {
          "output_type": "execute_result",
          "data": {
            "text/plain": [
              "{1, 2, 3, 4, 5, 6, 9, 25}"
            ]
          },
          "metadata": {
            "tags": []
          },
          "execution_count": 19
        }
      ]
    },
    {
      "cell_type": "code",
      "metadata": {
        "id": "0QQwev5oNlgf",
        "colab_type": "code",
        "colab": {}
      },
      "source": [
        "# Make a dictionary with {} and : to signify a key and a value\n",
        "my_dict = {'key1':'value1','key2':'value2','key3':'value3','key4':'value4'}"
      ],
      "execution_count": null,
      "outputs": []
    },
    {
      "cell_type": "code",
      "metadata": {
        "id": "gd4KOqlUNlgh",
        "colab_type": "code",
        "colab": {},
        "outputId": "a12b722c-cd59-40d4-8802-97afcd81b655"
      },
      "source": [
        "# Call values by their key\n",
        "my_dict['key4']"
      ],
      "execution_count": null,
      "outputs": [
        {
          "output_type": "execute_result",
          "data": {
            "text/plain": [
              "'value4'"
            ]
          },
          "metadata": {
            "tags": []
          },
          "execution_count": 21
        }
      ]
    },
    {
      "cell_type": "code",
      "metadata": {
        "id": "kX6oDHIbNlgj",
        "colab_type": "code",
        "colab": {}
      },
      "source": [
        "my_dict = {'key1':1234567,'key2':[12,23,33,2,56,85,63],'key3':['item0','item1','item2','item3','item4','item5']}"
      ],
      "execution_count": null,
      "outputs": []
    },
    {
      "cell_type": "code",
      "metadata": {
        "id": "XX3DSQORNlgl",
        "colab_type": "code",
        "colab": {},
        "outputId": "abdc55a8-a795-4270-ec9e-821825a0e193"
      },
      "source": [
        "#Let's call items from the dictionary\n",
        "my_dict['key2']"
      ],
      "execution_count": null,
      "outputs": [
        {
          "output_type": "execute_result",
          "data": {
            "text/plain": [
              "[12, 23, 33, 2, 56, 85, 63]"
            ]
          },
          "metadata": {
            "tags": []
          },
          "execution_count": 23
        }
      ]
    },
    {
      "cell_type": "code",
      "metadata": {
        "id": "EkQIeoN_Nlgn",
        "colab_type": "code",
        "colab": {},
        "outputId": "25fc34fa-547e-4a45-b1a9-c3cd9373a8f9"
      },
      "source": [
        "# Can call an index on that value\n",
        "my_dict['key2'][2]"
      ],
      "execution_count": null,
      "outputs": [
        {
          "output_type": "execute_result",
          "data": {
            "text/plain": [
              "33"
            ]
          },
          "metadata": {
            "tags": []
          },
          "execution_count": 24
        }
      ]
    },
    {
      "cell_type": "code",
      "metadata": {
        "id": "NTmaUCUFNlgq",
        "colab_type": "code",
        "colab": {},
        "outputId": "d3bf2b4c-9c31-49c4-a198-17f95b498ef5"
      },
      "source": [
        "#Can then even call methods on that value\n",
        "my_dict['key3'][0].upper()"
      ],
      "execution_count": null,
      "outputs": [
        {
          "output_type": "execute_result",
          "data": {
            "text/plain": [
              "'ITEM0'"
            ]
          },
          "metadata": {
            "tags": []
          },
          "execution_count": 25
        }
      ]
    },
    {
      "cell_type": "code",
      "metadata": {
        "id": "Q9LvPLAINlgu",
        "colab_type": "code",
        "colab": {},
        "outputId": "45b231ae-0c9b-4117-eccd-2cca11194d08"
      },
      "source": [
        "my_dict['key1']"
      ],
      "execution_count": null,
      "outputs": [
        {
          "output_type": "execute_result",
          "data": {
            "text/plain": [
              "1234567"
            ]
          },
          "metadata": {
            "tags": []
          },
          "execution_count": 26
        }
      ]
    },
    {
      "cell_type": "code",
      "metadata": {
        "id": "BEgElJAUNlgx",
        "colab_type": "code",
        "colab": {}
      },
      "source": [
        "# Subtract 1234567 from the value\n",
        "my_dict['key1'] = my_dict['key1'] - 1234567"
      ],
      "execution_count": null,
      "outputs": []
    },
    {
      "cell_type": "code",
      "metadata": {
        "id": "JV3Iv6o3Nlgz",
        "colab_type": "code",
        "colab": {},
        "outputId": "e1686b0c-2410-49a8-abf3-88f1dc27d736"
      },
      "source": [
        "#Check\n",
        "my_dict['key1']"
      ],
      "execution_count": null,
      "outputs": [
        {
          "output_type": "execute_result",
          "data": {
            "text/plain": [
              "0"
            ]
          },
          "metadata": {
            "tags": []
          },
          "execution_count": 28
        }
      ]
    },
    {
      "cell_type": "code",
      "metadata": {
        "id": "4s6TeAa9Nlg1",
        "colab_type": "code",
        "colab": {},
        "outputId": "073a0418-312a-4913-a7f8-fb5076fc8129"
      },
      "source": [
        "# Set the object equal to itself minus 1234567 \n",
        "my_dict['key1'] -= 1234567\n",
        "my_dict['key1']"
      ],
      "execution_count": null,
      "outputs": [
        {
          "output_type": "execute_result",
          "data": {
            "text/plain": [
              "-1234567"
            ]
          },
          "metadata": {
            "tags": []
          },
          "execution_count": 29
        }
      ]
    },
    {
      "cell_type": "code",
      "metadata": {
        "id": "RkdZhdoNNlg2",
        "colab_type": "code",
        "colab": {}
      },
      "source": [
        "# Create a new dictionary\n",
        "d = {}"
      ],
      "execution_count": null,
      "outputs": []
    },
    {
      "cell_type": "code",
      "metadata": {
        "id": "6Et6wzEINlg5",
        "colab_type": "code",
        "colab": {}
      },
      "source": [
        "# Create a new key through assignment\n",
        "d['flower'] = 'Rose'"
      ],
      "execution_count": null,
      "outputs": []
    },
    {
      "cell_type": "code",
      "metadata": {
        "id": "v178eAMwNlg7",
        "colab_type": "code",
        "colab": {}
      },
      "source": [
        "# Can do this with any object\n",
        "d['answer'] = 84"
      ],
      "execution_count": null,
      "outputs": []
    },
    {
      "cell_type": "code",
      "metadata": {
        "id": "lf3QF6KzNlg8",
        "colab_type": "code",
        "colab": {},
        "outputId": "10e55617-9bfc-4f39-b1f9-05f8e6afc50e"
      },
      "source": [
        "#Show\n",
        "d"
      ],
      "execution_count": null,
      "outputs": [
        {
          "output_type": "execute_result",
          "data": {
            "text/plain": [
              "{'flower': 'Rose', 'answer': 84}"
            ]
          },
          "metadata": {
            "tags": []
          },
          "execution_count": 33
        }
      ]
    },
    {
      "cell_type": "code",
      "metadata": {
        "id": "yEA-jTe-Nlg-",
        "colab_type": "code",
        "colab": {}
      },
      "source": [
        "# Dictionary nested inside a dictionary nested in side a dictionary\n",
        "d = {'key1':{'nestkey':{'subnestkey':'rose'}}}"
      ],
      "execution_count": null,
      "outputs": []
    },
    {
      "cell_type": "code",
      "metadata": {
        "id": "09q_njJ7NlhA",
        "colab_type": "code",
        "colab": {},
        "outputId": "9aa28c69-2c62-47f8-9d9f-b8b7cd779d3a"
      },
      "source": [
        "# Keep calling the keys\n",
        "d['key1']['nestkey']['subnestkey']"
      ],
      "execution_count": null,
      "outputs": [
        {
          "output_type": "execute_result",
          "data": {
            "text/plain": [
              "'rose'"
            ]
          },
          "metadata": {
            "tags": []
          },
          "execution_count": 35
        }
      ]
    },
    {
      "cell_type": "code",
      "metadata": {
        "id": "vtkafgljNlhC",
        "colab_type": "code",
        "colab": {}
      },
      "source": [
        "# Create a typical dictionary\n",
        "d = {'key1':12,'key2':22,'key3':32, 'key4':42}"
      ],
      "execution_count": null,
      "outputs": []
    },
    {
      "cell_type": "code",
      "metadata": {
        "id": "I6DYBlGaNlhE",
        "colab_type": "code",
        "colab": {},
        "outputId": "42768ee3-fa51-4af0-d53f-c1116d32ac6b"
      },
      "source": [
        "# Method to return a list of all keys \n",
        "d.keys()"
      ],
      "execution_count": null,
      "outputs": [
        {
          "output_type": "execute_result",
          "data": {
            "text/plain": [
              "dict_keys(['key1', 'key2', 'key3', 'key4'])"
            ]
          },
          "metadata": {
            "tags": []
          },
          "execution_count": 37
        }
      ]
    },
    {
      "cell_type": "code",
      "metadata": {
        "id": "kExIXJ5qNlhG",
        "colab_type": "code",
        "colab": {},
        "outputId": "3534c037-924e-4d53-de45-ae43ab30acc4"
      },
      "source": [
        "# Method to grab all values\n",
        "d.values()"
      ],
      "execution_count": null,
      "outputs": [
        {
          "output_type": "execute_result",
          "data": {
            "text/plain": [
              "dict_values([12, 22, 32, 42])"
            ]
          },
          "metadata": {
            "tags": []
          },
          "execution_count": 38
        }
      ]
    },
    {
      "cell_type": "code",
      "metadata": {
        "id": "QwuYUoVANlhI",
        "colab_type": "code",
        "colab": {},
        "outputId": "826de2d7-d656-474a-d71b-23e1b3c83965"
      },
      "source": [
        "# Method to return tuples of all items  \n",
        "d.items()"
      ],
      "execution_count": null,
      "outputs": [
        {
          "output_type": "execute_result",
          "data": {
            "text/plain": [
              "dict_items([('key1', 12), ('key2', 22), ('key3', 32), ('key4', 42)])"
            ]
          },
          "metadata": {
            "tags": []
          },
          "execution_count": 39
        }
      ]
    },
    {
      "cell_type": "code",
      "metadata": {
        "id": "1jfevPk2NlhK",
        "colab_type": "code",
        "colab": {},
        "outputId": "c1e39040-4c64-4992-9e89-e1698f77de01"
      },
      "source": [
        "print(list(range(50)))"
      ],
      "execution_count": null,
      "outputs": [
        {
          "output_type": "stream",
          "text": [
            "[0, 1, 2, 3, 4, 5, 6, 7, 8, 9, 10, 11, 12, 13, 14, 15, 16, 17, 18, 19, 20, 21, 22, 23, 24, 25, 26, 27, 28, 29, 30, 31, 32, 33, 34, 35, 36, 37, 38, 39, 40, 41, 42, 43, 44, 45, 46, 47, 48, 49]\n"
          ],
          "name": "stdout"
        }
      ]
    },
    {
      "cell_type": "code",
      "metadata": {
        "id": "EHw3IgY5NlhL",
        "colab_type": "code",
        "colab": {},
        "outputId": "f38c560f-e856-4dbe-bee1-6161e636cded"
      },
      "source": [
        "{x:x**2 for x in range(50)}"
      ],
      "execution_count": null,
      "outputs": [
        {
          "output_type": "execute_result",
          "data": {
            "text/plain": [
              "{0: 0,\n",
              " 1: 1,\n",
              " 2: 4,\n",
              " 3: 9,\n",
              " 4: 16,\n",
              " 5: 25,\n",
              " 6: 36,\n",
              " 7: 49,\n",
              " 8: 64,\n",
              " 9: 81,\n",
              " 10: 100,\n",
              " 11: 121,\n",
              " 12: 144,\n",
              " 13: 169,\n",
              " 14: 196,\n",
              " 15: 225,\n",
              " 16: 256,\n",
              " 17: 289,\n",
              " 18: 324,\n",
              " 19: 361,\n",
              " 20: 400,\n",
              " 21: 441,\n",
              " 22: 484,\n",
              " 23: 529,\n",
              " 24: 576,\n",
              " 25: 625,\n",
              " 26: 676,\n",
              " 27: 729,\n",
              " 28: 784,\n",
              " 29: 841,\n",
              " 30: 900,\n",
              " 31: 961,\n",
              " 32: 1024,\n",
              " 33: 1089,\n",
              " 34: 1156,\n",
              " 35: 1225,\n",
              " 36: 1296,\n",
              " 37: 1369,\n",
              " 38: 1444,\n",
              " 39: 1521,\n",
              " 40: 1600,\n",
              " 41: 1681,\n",
              " 42: 1764,\n",
              " 43: 1849,\n",
              " 44: 1936,\n",
              " 45: 2025,\n",
              " 46: 2116,\n",
              " 47: 2209,\n",
              " 48: 2304,\n",
              " 49: 2401}"
            ]
          },
          "metadata": {
            "tags": []
          },
          "execution_count": 41
        }
      ]
    },
    {
      "cell_type": "code",
      "metadata": {
        "id": "z1QJXZJLNlhO",
        "colab_type": "code",
        "colab": {},
        "outputId": "291e5384-b69b-4aa9-fd51-41cf184dd5fd"
      },
      "source": [
        "def say_hello():\n",
        "    print('HELLO')\n",
        "say_hello()"
      ],
      "execution_count": null,
      "outputs": [
        {
          "output_type": "stream",
          "text": [
            "HELLO\n"
          ],
          "name": "stdout"
        }
      ]
    },
    {
      "cell_type": "code",
      "metadata": {
        "id": "xQYznKwtNlhQ",
        "colab_type": "code",
        "colab": {},
        "outputId": "47eb82d9-e76a-4bfe-cc0f-25ab982c62be"
      },
      "source": [
        "def greeting(name):\n",
        "    print('Hello %s' %name)\n",
        "    print('how are you doing %s'%name)\n",
        "greeting('ruby')"
      ],
      "execution_count": null,
      "outputs": [
        {
          "output_type": "stream",
          "text": [
            "Hello ruby\n",
            "how are you doing ruby\n"
          ],
          "name": "stdout"
        }
      ]
    },
    {
      "cell_type": "code",
      "metadata": {
        "id": "zsigf8FBNlhS",
        "colab_type": "code",
        "colab": {}
      },
      "source": [
        "def add_num(num1,num2,num3,num4):\n",
        "    return num1+num2+num3+num4"
      ],
      "execution_count": null,
      "outputs": []
    },
    {
      "cell_type": "code",
      "metadata": {
        "id": "_t6ZgoqZNlhV",
        "colab_type": "code",
        "colab": {},
        "outputId": "97705dd0-eb0a-4a42-eaac-a0fd4c929992"
      },
      "source": [
        "add_num(4,5,7,8)"
      ],
      "execution_count": null,
      "outputs": [
        {
          "output_type": "execute_result",
          "data": {
            "text/plain": [
              "24"
            ]
          },
          "metadata": {
            "tags": []
          },
          "execution_count": 45
        }
      ]
    },
    {
      "cell_type": "code",
      "metadata": {
        "id": "u2NqBms7NlhX",
        "colab_type": "code",
        "colab": {}
      },
      "source": [
        "# Can also save as variable due to return\n",
        "result = add_num(4,5,7,8)"
      ],
      "execution_count": null,
      "outputs": []
    },
    {
      "cell_type": "code",
      "metadata": {
        "id": "0LG8YcMjNlhZ",
        "colab_type": "code",
        "colab": {},
        "outputId": "3f6534c7-b4f0-40fc-f870-f9cfdd1f7b2d"
      },
      "source": [
        "print(result)"
      ],
      "execution_count": null,
      "outputs": [
        {
          "output_type": "stream",
          "text": [
            "24\n"
          ],
          "name": "stdout"
        }
      ]
    },
    {
      "cell_type": "code",
      "metadata": {
        "id": "DXTS9v26Nlhb",
        "colab_type": "code",
        "colab": {},
        "outputId": "58c43862-212e-4959-dabf-04a44ae10f34"
      },
      "source": [
        "print(add_num('two\\t','zero\\t','two\\t','zero'))"
      ],
      "execution_count": null,
      "outputs": [
        {
          "output_type": "stream",
          "text": [
            "two\tzero\ttwo\tzero\n"
          ],
          "name": "stdout"
        }
      ]
    },
    {
      "cell_type": "code",
      "metadata": {
        "id": "gSFoY173Nlhd",
        "colab_type": "code",
        "colab": {}
      },
      "source": [
        "def is_prime(num):\n",
        "    '''\n",
        "    Naive method of checking for primes. \n",
        "    '''\n",
        "    for n in range(2,num):\n",
        "        if num % n == 0:\n",
        "            print('not prime')\n",
        "            break\n",
        "    else: # If never mod zero, then prime\n",
        "        print('prime')"
      ],
      "execution_count": null,
      "outputs": []
    },
    {
      "cell_type": "code",
      "metadata": {
        "id": "UcpBHRdtNlhf",
        "colab_type": "code",
        "colab": {},
        "outputId": "0b8d9229-d7bd-4bc6-ba49-f12140321cb8"
      },
      "source": [
        "is_prime(9)"
      ],
      "execution_count": null,
      "outputs": [
        {
          "output_type": "stream",
          "text": [
            "not prime\n"
          ],
          "name": "stdout"
        }
      ]
    },
    {
      "cell_type": "code",
      "metadata": {
        "id": "SfL3MHYsNlhg",
        "colab_type": "code",
        "colab": {},
        "outputId": "03cae4d0-b08d-4cd6-9849-06ed2e9f1329"
      },
      "source": [
        "is_prime(15)"
      ],
      "execution_count": null,
      "outputs": [
        {
          "output_type": "stream",
          "text": [
            "not prime\n"
          ],
          "name": "stdout"
        }
      ]
    },
    {
      "cell_type": "code",
      "metadata": {
        "id": "W3CMmQ6hNlhk",
        "colab_type": "code",
        "colab": {},
        "outputId": "5bc80312-8d81-4222-f7a3-5f370deb27ac"
      },
      "source": [
        "is_prime(3)"
      ],
      "execution_count": null,
      "outputs": [
        {
          "output_type": "stream",
          "text": [
            "prime\n"
          ],
          "name": "stdout"
        }
      ]
    },
    {
      "cell_type": "code",
      "metadata": {
        "id": "YiSbE5deNlhn",
        "colab_type": "code",
        "colab": {}
      },
      "source": [
        "import math\n",
        "\n",
        "def is_prime(num):\n",
        "    '''\n",
        "    A Better method of checking for primes. \n",
        "    '''\n",
        "    if num % 2 == 0 and num > 2: \n",
        "        return False\n",
        "    for i in range(3, int(math.sqrt(num)) + 1, 2):\n",
        "        if num % i == 0:\n",
        "            return False\n",
        "    return True"
      ],
      "execution_count": null,
      "outputs": []
    },
    {
      "cell_type": "code",
      "metadata": {
        "id": "VVFmVp5QNlhp",
        "colab_type": "code",
        "colab": {},
        "outputId": "04f8e06d-18a8-480c-a3b0-d5f4d3810ad9"
      },
      "source": [
        "is_prime(9)"
      ],
      "execution_count": null,
      "outputs": [
        {
          "output_type": "execute_result",
          "data": {
            "text/plain": [
              "False"
            ]
          },
          "metadata": {
            "tags": []
          },
          "execution_count": 54
        }
      ]
    },
    {
      "cell_type": "code",
      "metadata": {
        "id": "KCSkCdEGNlhq",
        "colab_type": "code",
        "colab": {},
        "outputId": "2d01de29-670a-4080-83ba-7eb869517602"
      },
      "source": [
        "is_prime(11)"
      ],
      "execution_count": null,
      "outputs": [
        {
          "output_type": "execute_result",
          "data": {
            "text/plain": [
              "True"
            ]
          },
          "metadata": {
            "tags": []
          },
          "execution_count": 55
        }
      ]
    },
    {
      "cell_type": "code",
      "metadata": {
        "id": "aFXKxs41Nlht",
        "colab_type": "code",
        "colab": {},
        "outputId": "99a6cc61-0dab-43d0-a1bf-8c2d39278e8b"
      },
      "source": [
        "is_prime(13)"
      ],
      "execution_count": null,
      "outputs": [
        {
          "output_type": "execute_result",
          "data": {
            "text/plain": [
              "True"
            ]
          },
          "metadata": {
            "tags": []
          },
          "execution_count": 56
        }
      ]
    },
    {
      "cell_type": "code",
      "metadata": {
        "id": "WencF76UNlhu",
        "colab_type": "code",
        "colab": {}
      },
      "source": [
        "# Generator function for the cube of numbers (power of 3)\n",
        "def gencubes(n):\n",
        "    for num in range(n):\n",
        "        yield num**3"
      ],
      "execution_count": null,
      "outputs": []
    },
    {
      "cell_type": "code",
      "metadata": {
        "scrolled": true,
        "id": "T3C4h3xGNlhx",
        "colab_type": "code",
        "colab": {},
        "outputId": "db77d802-3562-4dd7-b1f6-c094afebea80"
      },
      "source": [
        "for x in gencubes(5):\n",
        "    print(x)"
      ],
      "execution_count": null,
      "outputs": [
        {
          "output_type": "stream",
          "text": [
            "0\n",
            "1\n",
            "8\n",
            "27\n",
            "64\n"
          ],
          "name": "stdout"
        }
      ]
    },
    {
      "cell_type": "code",
      "metadata": {
        "id": "TH-NqwD7Nlhz",
        "colab_type": "code",
        "colab": {}
      },
      "source": [
        "def genfibon(n):\n",
        "    '''\n",
        "    Generate a fibonacci sequence up to n\n",
        "    '''\n",
        "    a = 1\n",
        "    b = 1\n",
        "    for i in range(n):\n",
        "        yield a\n",
        "        a,b = b,a+b"
      ],
      "execution_count": null,
      "outputs": []
    },
    {
      "cell_type": "code",
      "metadata": {
        "id": "FohhzKH6Nlh0",
        "colab_type": "code",
        "colab": {},
        "outputId": "cabc4574-fca3-421b-e6ab-fd3b3edac31e"
      },
      "source": [
        "for num in genfibon(20):\n",
        "    print(num)"
      ],
      "execution_count": null,
      "outputs": [
        {
          "output_type": "stream",
          "text": [
            "1\n",
            "1\n",
            "2\n",
            "3\n",
            "5\n",
            "8\n",
            "13\n",
            "21\n",
            "34\n",
            "55\n",
            "89\n",
            "144\n",
            "233\n",
            "377\n",
            "610\n",
            "987\n",
            "1597\n",
            "2584\n",
            "4181\n",
            "6765\n"
          ],
          "name": "stdout"
        }
      ]
    },
    {
      "cell_type": "code",
      "metadata": {
        "id": "wJaWskLcNlh1",
        "colab_type": "code",
        "colab": {}
      },
      "source": [
        "def fibon(n):\n",
        "    a = 1\n",
        "    b = 1\n",
        "    output = []\n",
        "    \n",
        "    for i in range(n):\n",
        "        output.append(a)\n",
        "        a,b = b,a+b\n",
        "        \n",
        "    return output"
      ],
      "execution_count": null,
      "outputs": []
    },
    {
      "cell_type": "code",
      "metadata": {
        "id": "Bacd-EblNlh3",
        "colab_type": "code",
        "colab": {},
        "outputId": "ec999177-a128-42e8-f13d-69fe6c9cfb98"
      },
      "source": [
        "fibon(12)"
      ],
      "execution_count": null,
      "outputs": [
        {
          "output_type": "execute_result",
          "data": {
            "text/plain": [
              "[1, 1, 2, 3, 5, 8, 13, 21, 34, 55, 89, 144]"
            ]
          },
          "metadata": {
            "tags": []
          },
          "execution_count": 62
        }
      ]
    },
    {
      "cell_type": "code",
      "metadata": {
        "id": "PENrqFsVNlh4",
        "colab_type": "code",
        "colab": {},
        "outputId": "caadd702-1ae6-4442-b299-5e04d1acc72b"
      },
      "source": [
        "print(list(range(5)))"
      ],
      "execution_count": null,
      "outputs": [
        {
          "output_type": "stream",
          "text": [
            "[0, 1, 2, 3, 4]\n"
          ],
          "name": "stdout"
        }
      ]
    },
    {
      "cell_type": "code",
      "metadata": {
        "id": "iPRtCw-rNlh6",
        "colab_type": "code",
        "colab": {}
      },
      "source": [
        "def simple_gen():\n",
        "    for x in range(5):\n",
        "        yield x"
      ],
      "execution_count": null,
      "outputs": []
    },
    {
      "cell_type": "code",
      "metadata": {
        "id": "PEEfytbXNlh7",
        "colab_type": "code",
        "colab": {}
      },
      "source": [
        "# Assign simple_gen \n",
        "g = simple_gen()"
      ],
      "execution_count": null,
      "outputs": []
    },
    {
      "cell_type": "code",
      "metadata": {
        "id": "ww7Pfj1eNlh9",
        "colab_type": "code",
        "colab": {},
        "outputId": "9bc034bf-2dad-4831-d8c5-f6a3db14d211"
      },
      "source": [
        "print(next(g))"
      ],
      "execution_count": null,
      "outputs": [
        {
          "output_type": "stream",
          "text": [
            "0\n"
          ],
          "name": "stdout"
        }
      ]
    },
    {
      "cell_type": "code",
      "metadata": {
        "id": "n8sDkLJ7Nlh-",
        "colab_type": "code",
        "colab": {},
        "outputId": "7db0c09e-7268-4b25-dcd4-90f4226f4e30"
      },
      "source": [
        "print(next(g))"
      ],
      "execution_count": null,
      "outputs": [
        {
          "output_type": "stream",
          "text": [
            "1\n"
          ],
          "name": "stdout"
        }
      ]
    },
    {
      "cell_type": "code",
      "metadata": {
        "id": "mb3yozCUNliA",
        "colab_type": "code",
        "colab": {},
        "outputId": "dedb6e63-e011-4af3-a3b5-39b1a2b362d3"
      },
      "source": [
        "print(next(g))"
      ],
      "execution_count": null,
      "outputs": [
        {
          "output_type": "stream",
          "text": [
            "2\n"
          ],
          "name": "stdout"
        }
      ]
    },
    {
      "cell_type": "code",
      "metadata": {
        "id": "b9AcKY9wNliB",
        "colab_type": "code",
        "colab": {},
        "outputId": "75ab7d14-42a2-4b58-8986-86a77f426b85"
      },
      "source": [
        "print(next(g))"
      ],
      "execution_count": null,
      "outputs": [
        {
          "output_type": "stream",
          "text": [
            "3\n"
          ],
          "name": "stdout"
        }
      ]
    },
    {
      "cell_type": "code",
      "metadata": {
        "id": "bg0NR5H2NliC",
        "colab_type": "code",
        "colab": {},
        "outputId": "c4238a26-c86d-4c75-e79a-56410064c4c5"
      },
      "source": [
        "print(next(g))"
      ],
      "execution_count": null,
      "outputs": [
        {
          "output_type": "stream",
          "text": [
            "4\n"
          ],
          "name": "stdout"
        }
      ]
    },
    {
      "cell_type": "code",
      "metadata": {
        "id": "fXkxXgvoNliF",
        "colab_type": "code",
        "colab": {},
        "outputId": "fe249636-0402-431a-9b7a-43e134c1c73b"
      },
      "source": [
        "print(next(g))"
      ],
      "execution_count": null,
      "outputs": [
        {
          "output_type": "error",
          "ename": "StopIteration",
          "evalue": "",
          "traceback": [
            "\u001b[1;31m---------------------------------------------------------------------------\u001b[0m",
            "\u001b[1;31mStopIteration\u001b[0m                             Traceback (most recent call last)",
            "\u001b[1;32m<ipython-input-71-1dfb29d6357e>\u001b[0m in \u001b[0;36m<module>\u001b[1;34m\u001b[0m\n\u001b[1;32m----> 1\u001b[1;33m \u001b[0mprint\u001b[0m\u001b[1;33m(\u001b[0m\u001b[0mnext\u001b[0m\u001b[1;33m(\u001b[0m\u001b[0mg\u001b[0m\u001b[1;33m)\u001b[0m\u001b[1;33m)\u001b[0m\u001b[1;33m\u001b[0m\u001b[1;33m\u001b[0m\u001b[0m\n\u001b[0m",
            "\u001b[1;31mStopIteration\u001b[0m: "
          ]
        }
      ]
    },
    {
      "cell_type": "code",
      "metadata": {
        "id": "R8W5F1w5NliG",
        "colab_type": "code",
        "colab": {},
        "outputId": "3a058aa1-b87e-4a82-d4eb-fc19a579d22d"
      },
      "source": [
        "s = 'hello'\n",
        "\n",
        "#Iterate over string\n",
        "for i in s:\n",
        "    print(i)"
      ],
      "execution_count": null,
      "outputs": [
        {
          "output_type": "stream",
          "text": [
            "h\n",
            "e\n",
            "l\n",
            "l\n",
            "o\n"
          ],
          "name": "stdout"
        }
      ]
    },
    {
      "cell_type": "code",
      "metadata": {
        "id": "oe3BHtfINliI",
        "colab_type": "code",
        "colab": {},
        "outputId": "40379054-9102-4800-c740-a3d5c1c3d4e5"
      },
      "source": [
        "next(s)"
      ],
      "execution_count": null,
      "outputs": [
        {
          "output_type": "error",
          "ename": "TypeError",
          "evalue": "'str' object is not an iterator",
          "traceback": [
            "\u001b[1;31m---------------------------------------------------------------------------\u001b[0m",
            "\u001b[1;31mTypeError\u001b[0m                                 Traceback (most recent call last)",
            "\u001b[1;32m<ipython-input-73-61c30b5fe1d5>\u001b[0m in \u001b[0;36m<module>\u001b[1;34m\u001b[0m\n\u001b[1;32m----> 1\u001b[1;33m \u001b[0mnext\u001b[0m\u001b[1;33m(\u001b[0m\u001b[0ms\u001b[0m\u001b[1;33m)\u001b[0m\u001b[1;33m\u001b[0m\u001b[1;33m\u001b[0m\u001b[0m\n\u001b[0m",
            "\u001b[1;31mTypeError\u001b[0m: 'str' object is not an iterator"
          ]
        }
      ]
    },
    {
      "cell_type": "code",
      "metadata": {
        "id": "PLERa95bNliJ",
        "colab_type": "code",
        "colab": {}
      },
      "source": [
        "s_iter = iter(s)"
      ],
      "execution_count": null,
      "outputs": []
    },
    {
      "cell_type": "code",
      "metadata": {
        "id": "ycVYh_j4NliK",
        "colab_type": "code",
        "colab": {},
        "outputId": "8676ccf0-04d9-4673-8d3b-05737c5c79c5"
      },
      "source": [
        "next(s_iter)"
      ],
      "execution_count": null,
      "outputs": [
        {
          "output_type": "execute_result",
          "data": {
            "text/plain": [
              "'h'"
            ]
          },
          "metadata": {
            "tags": []
          },
          "execution_count": 75
        }
      ]
    },
    {
      "cell_type": "code",
      "metadata": {
        "id": "G9GhbJFgNliL",
        "colab_type": "code",
        "colab": {},
        "outputId": "f1af0a5a-97d2-4042-b9b3-7d38835d14f8"
      },
      "source": [
        "next(s_iter)"
      ],
      "execution_count": null,
      "outputs": [
        {
          "output_type": "execute_result",
          "data": {
            "text/plain": [
              "'e'"
            ]
          },
          "metadata": {
            "tags": []
          },
          "execution_count": 76
        }
      ]
    },
    {
      "cell_type": "code",
      "metadata": {
        "id": "TtZNSpGTNliN",
        "colab_type": "code",
        "colab": {}
      },
      "source": [
        "def fahrenheit(T):\n",
        "    return ((float(9)/5)*T + 32)\n",
        "def celsius(T):\n",
        "    return (float(5)/9)*(T-32)\n",
        "    \n",
        "temp = [0, 37, 75,100]"
      ],
      "execution_count": null,
      "outputs": []
    },
    {
      "cell_type": "code",
      "metadata": {
        "id": "7pS3xIJdNliO",
        "colab_type": "code",
        "colab": {},
        "outputId": "e2063004-3664-4303-8177-88dbb5e4a797"
      },
      "source": [
        "F_temps = list(map(fahrenheit, temp))\n",
        "\n",
        "#Show\n",
        "F_temps"
      ],
      "execution_count": null,
      "outputs": [
        {
          "output_type": "execute_result",
          "data": {
            "text/plain": [
              "[32.0, 98.60000000000001, 167.0, 212.0]"
            ]
          },
          "metadata": {
            "tags": []
          },
          "execution_count": 78
        }
      ]
    },
    {
      "cell_type": "code",
      "metadata": {
        "id": "KhPzXU--NliQ",
        "colab_type": "code",
        "colab": {},
        "outputId": "b47a54ca-7812-483d-e9f7-be5bf76d082c"
      },
      "source": [
        "# Convert back\n",
        "list(map(celsius, F_temps))"
      ],
      "execution_count": null,
      "outputs": [
        {
          "output_type": "execute_result",
          "data": {
            "text/plain": [
              "[0.0, 37.00000000000001, 75.0, 100.0]"
            ]
          },
          "metadata": {
            "tags": []
          },
          "execution_count": 79
        }
      ]
    },
    {
      "cell_type": "code",
      "metadata": {
        "id": "x6NlqKTYNliU",
        "colab_type": "code",
        "colab": {},
        "outputId": "9f54337b-843c-41fa-a324-a7a9fb82d8c1"
      },
      "source": [
        "list(map(lambda x: (5.0/9)*(x - 32), F_temps))"
      ],
      "execution_count": null,
      "outputs": [
        {
          "output_type": "execute_result",
          "data": {
            "text/plain": [
              "[0.0, 37.00000000000001, 75.0, 100.0]"
            ]
          },
          "metadata": {
            "tags": []
          },
          "execution_count": 80
        }
      ]
    },
    {
      "cell_type": "code",
      "metadata": {
        "id": "2B65QzMwNliV",
        "colab_type": "code",
        "colab": {},
        "outputId": "d3a14f56-a6cf-4a51-aed7-75ff6d945659"
      },
      "source": [
        "a = [1,2,3,4,5]\n",
        "b = [6,7,8]\n",
        "c = [9,10,11]\n",
        "\n",
        "list(map(lambda x,y:x+y, a,b))"
      ],
      "execution_count": null,
      "outputs": [
        {
          "output_type": "execute_result",
          "data": {
            "text/plain": [
              "[7, 9, 11]"
            ]
          },
          "metadata": {
            "tags": []
          },
          "execution_count": 81
        }
      ]
    },
    {
      "cell_type": "code",
      "metadata": {
        "id": "8kIbsQHQNliX",
        "colab_type": "code",
        "colab": {},
        "outputId": "f97a2d3a-f313-41f7-c72c-6023be23b333"
      },
      "source": [
        "# Now all three lists\n",
        "list(map(lambda x,y,z:x+y+z, a,b,c))"
      ],
      "execution_count": null,
      "outputs": [
        {
          "output_type": "execute_result",
          "data": {
            "text/plain": [
              "[16, 19, 22]"
            ]
          },
          "metadata": {
            "tags": []
          },
          "execution_count": 82
        }
      ]
    },
    {
      "cell_type": "code",
      "metadata": {
        "id": "cJTQuwHDNliZ",
        "colab_type": "code",
        "colab": {}
      },
      "source": [
        "#Find the maximum of a sequence (This already exists as max())\n",
        "max_find = lambda a,b: a if (a > b) else b"
      ],
      "execution_count": null,
      "outputs": []
    },
    {
      "cell_type": "code",
      "metadata": {
        "id": "agojuhUONlib",
        "colab_type": "code",
        "colab": {},
        "outputId": "84793b34-4cfc-4b15-f382-7a1b566547ef"
      },
      "source": [
        "#Find max\n",
        "print(lst)\n",
        "reduce(lambda a,b: a if (a > b) else b,lst)"
      ],
      "execution_count": null,
      "outputs": [
        {
          "output_type": "error",
          "ename": "NameError",
          "evalue": "name 'lst' is not defined",
          "traceback": [
            "\u001b[1;31m---------------------------------------------------------------------------\u001b[0m",
            "\u001b[1;31mNameError\u001b[0m                                 Traceback (most recent call last)",
            "\u001b[1;32m<ipython-input-84-139db9e7e72a>\u001b[0m in \u001b[0;36m<module>\u001b[1;34m\u001b[0m\n\u001b[0;32m      1\u001b[0m \u001b[1;31m#Find max\u001b[0m\u001b[1;33m\u001b[0m\u001b[1;33m\u001b[0m\u001b[1;33m\u001b[0m\u001b[0m\n\u001b[1;32m----> 2\u001b[1;33m \u001b[0mprint\u001b[0m\u001b[1;33m(\u001b[0m\u001b[0mlst\u001b[0m\u001b[1;33m)\u001b[0m\u001b[1;33m\u001b[0m\u001b[1;33m\u001b[0m\u001b[0m\n\u001b[0m\u001b[0;32m      3\u001b[0m \u001b[0mreduce\u001b[0m\u001b[1;33m(\u001b[0m\u001b[1;32mlambda\u001b[0m \u001b[0ma\u001b[0m\u001b[1;33m,\u001b[0m\u001b[0mb\u001b[0m\u001b[1;33m:\u001b[0m \u001b[0ma\u001b[0m \u001b[1;32mif\u001b[0m \u001b[1;33m(\u001b[0m\u001b[0ma\u001b[0m \u001b[1;33m>\u001b[0m \u001b[0mb\u001b[0m\u001b[1;33m)\u001b[0m \u001b[1;32melse\u001b[0m \u001b[0mb\u001b[0m\u001b[1;33m,\u001b[0m\u001b[0mlst\u001b[0m\u001b[1;33m)\u001b[0m\u001b[1;33m\u001b[0m\u001b[1;33m\u001b[0m\u001b[0m\n",
            "\u001b[1;31mNameError\u001b[0m: name 'lst' is not defined"
          ]
        }
      ]
    },
    {
      "cell_type": "code",
      "metadata": {
        "id": "qetPMEaxNlic",
        "colab_type": "code",
        "colab": {}
      },
      "source": [
        "#First let's make a function\n",
        "def even_check(num):\n",
        "    if num%2 ==0:\n",
        "        return True"
      ],
      "execution_count": null,
      "outputs": []
    },
    {
      "cell_type": "code",
      "metadata": {
        "id": "2GXt1I4DNlid",
        "colab_type": "code",
        "colab": {},
        "outputId": "d29534f7-6c0d-42dd-95ea-99f5c41a6dc3"
      },
      "source": [
        "lst =range(50)\n",
        "print(list(lst))\n",
        "\n",
        "list(filter(even_check,lst))"
      ],
      "execution_count": null,
      "outputs": [
        {
          "output_type": "stream",
          "text": [
            "[0, 1, 2, 3, 4, 5, 6, 7, 8, 9, 10, 11, 12, 13, 14, 15, 16, 17, 18, 19, 20, 21, 22, 23, 24, 25, 26, 27, 28, 29, 30, 31, 32, 33, 34, 35, 36, 37, 38, 39, 40, 41, 42, 43, 44, 45, 46, 47, 48, 49]\n"
          ],
          "name": "stdout"
        },
        {
          "output_type": "execute_result",
          "data": {
            "text/plain": [
              "[0,\n",
              " 2,\n",
              " 4,\n",
              " 6,\n",
              " 8,\n",
              " 10,\n",
              " 12,\n",
              " 14,\n",
              " 16,\n",
              " 18,\n",
              " 20,\n",
              " 22,\n",
              " 24,\n",
              " 26,\n",
              " 28,\n",
              " 30,\n",
              " 32,\n",
              " 34,\n",
              " 36,\n",
              " 38,\n",
              " 40,\n",
              " 42,\n",
              " 44,\n",
              " 46,\n",
              " 48]"
            ]
          },
          "metadata": {
            "tags": []
          },
          "execution_count": 86
        }
      ]
    },
    {
      "cell_type": "code",
      "metadata": {
        "id": "ck7sKwNZNlif",
        "colab_type": "code",
        "colab": {},
        "outputId": "86793b4f-824f-4390-e076-83d287c5768f"
      },
      "source": [
        "list(filter(lambda x: x%2==0,lst))"
      ],
      "execution_count": null,
      "outputs": [
        {
          "output_type": "execute_result",
          "data": {
            "text/plain": [
              "[0,\n",
              " 2,\n",
              " 4,\n",
              " 6,\n",
              " 8,\n",
              " 10,\n",
              " 12,\n",
              " 14,\n",
              " 16,\n",
              " 18,\n",
              " 20,\n",
              " 22,\n",
              " 24,\n",
              " 26,\n",
              " 28,\n",
              " 30,\n",
              " 32,\n",
              " 34,\n",
              " 36,\n",
              " 38,\n",
              " 40,\n",
              " 42,\n",
              " 44,\n",
              " 46,\n",
              " 48]"
            ]
          },
          "metadata": {
            "tags": []
          },
          "execution_count": 87
        }
      ]
    }
  ]
}