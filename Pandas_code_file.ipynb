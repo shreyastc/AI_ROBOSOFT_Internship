{
  "nbformat": 4,
  "nbformat_minor": 0,
  "metadata": {
    "kernelspec": {
      "display_name": "Python 3",
      "language": "python",
      "name": "python3"
    },
    "language_info": {
      "codemirror_mode": {
        "name": "ipython",
        "version": 3
      },
      "file_extension": ".py",
      "mimetype": "text/x-python",
      "name": "python",
      "nbconvert_exporter": "python",
      "pygments_lexer": "ipython3",
      "version": "3.7.6"
    },
    "colab": {
      "name": "Pandas code file.ipynb",
      "provenance": []
    }
  },
  "cells": [
    {
      "cell_type": "code",
      "metadata": {
        "id": "_3Cj1VAAmD8l",
        "colab_type": "code",
        "colab": {},
        "outputId": "d09c44f2-da55-408d-dff3-0c00b60c1489"
      },
      "source": [
        "import pandas\n",
        "pandas.__version__"
      ],
      "execution_count": null,
      "outputs": [
        {
          "output_type": "execute_result",
          "data": {
            "text/plain": [
              "'1.0.1'"
            ]
          },
          "metadata": {
            "tags": []
          },
          "execution_count": 1
        }
      ]
    },
    {
      "cell_type": "code",
      "metadata": {
        "id": "5fJFir1BmD84",
        "colab_type": "code",
        "colab": {}
      },
      "source": [
        "import numpy as np\n",
        "import pandas as pd"
      ],
      "execution_count": null,
      "outputs": []
    },
    {
      "cell_type": "code",
      "metadata": {
        "id": "gxig6yDFmD9E",
        "colab_type": "code",
        "colab": {},
        "outputId": "4abbf863-4cb1-4e81-bc5d-6057516788d4"
      },
      "source": [
        "counts = pd.Series([2, 8, 9, 1])\n",
        "counts"
      ],
      "execution_count": null,
      "outputs": [
        {
          "output_type": "execute_result",
          "data": {
            "text/plain": [
              "0    2\n",
              "1    8\n",
              "2    9\n",
              "3    1\n",
              "dtype: int64"
            ]
          },
          "metadata": {
            "tags": []
          },
          "execution_count": 3
        }
      ]
    },
    {
      "cell_type": "code",
      "metadata": {
        "id": "mlCxnuPsmD9Q",
        "colab_type": "code",
        "colab": {},
        "outputId": "9e8148b2-24da-4bfd-b262-68238f0d750d"
      },
      "source": [
        "counts.values"
      ],
      "execution_count": null,
      "outputs": [
        {
          "output_type": "execute_result",
          "data": {
            "text/plain": [
              "array([2, 8, 9, 1], dtype=int64)"
            ]
          },
          "metadata": {
            "tags": []
          },
          "execution_count": 4
        }
      ]
    },
    {
      "cell_type": "code",
      "metadata": {
        "id": "KW2RZwVcmD9b",
        "colab_type": "code",
        "colab": {},
        "outputId": "ad2ee6e3-7398-4bee-860a-df61256526fb"
      },
      "source": [
        "counts.index"
      ],
      "execution_count": null,
      "outputs": [
        {
          "output_type": "execute_result",
          "data": {
            "text/plain": [
              "RangeIndex(start=0, stop=4, step=1)"
            ]
          },
          "metadata": {
            "tags": []
          },
          "execution_count": 5
        }
      ]
    },
    {
      "cell_type": "code",
      "metadata": {
        "id": "roSnEv5bmD9s",
        "colab_type": "code",
        "colab": {},
        "outputId": "ed7e2b66-807e-4549-c577-78321fc8bffa"
      },
      "source": [
        "flowers = pd.Series([2, 8, 9, 1], \n",
        "    index=['Rose', 'Lily','Lotus', 'Sunflower'])\n",
        "\n",
        "flowers"
      ],
      "execution_count": null,
      "outputs": [
        {
          "output_type": "execute_result",
          "data": {
            "text/plain": [
              "Rose         2\n",
              "Lily         8\n",
              "Lotus        9\n",
              "Sunflower    1\n",
              "dtype: int64"
            ]
          },
          "metadata": {
            "tags": []
          },
          "execution_count": 6
        }
      ]
    },
    {
      "cell_type": "code",
      "metadata": {
        "id": "5qr56bdAmD92",
        "colab_type": "code",
        "colab": {},
        "outputId": "3b042721-0498-42fa-90fe-eac9149e83d5"
      },
      "source": [
        "flowers['Lily']"
      ],
      "execution_count": null,
      "outputs": [
        {
          "output_type": "execute_result",
          "data": {
            "text/plain": [
              "8"
            ]
          },
          "metadata": {
            "tags": []
          },
          "execution_count": 7
        }
      ]
    },
    {
      "cell_type": "code",
      "metadata": {
        "id": "JKvTWUI1mD9-",
        "colab_type": "code",
        "colab": {},
        "outputId": "fe665649-209e-4729-841c-27c8c67baca6"
      },
      "source": [
        "flowers[2]"
      ],
      "execution_count": null,
      "outputs": [
        {
          "output_type": "execute_result",
          "data": {
            "text/plain": [
              "9"
            ]
          },
          "metadata": {
            "tags": []
          },
          "execution_count": 8
        }
      ]
    },
    {
      "cell_type": "code",
      "metadata": {
        "id": "iUoWhhNxmD-E",
        "colab_type": "code",
        "colab": {},
        "outputId": "d67a5c91-b159-4f71-9bc0-3223b2aace6e"
      },
      "source": [
        "flowers.name = 'counts'\n",
        "flowers.index.name = 'nature'\n",
        "flowers"
      ],
      "execution_count": null,
      "outputs": [
        {
          "output_type": "execute_result",
          "data": {
            "text/plain": [
              "nature\n",
              "Rose         2\n",
              "Lily         8\n",
              "Lotus        9\n",
              "Sunflower    1\n",
              "Name: counts, dtype: int64"
            ]
          },
          "metadata": {
            "tags": []
          },
          "execution_count": 9
        }
      ]
    },
    {
      "cell_type": "code",
      "metadata": {
        "id": "JQn4_p0lmD-J",
        "colab_type": "code",
        "colab": {},
        "outputId": "34d16e7c-5baf-4492-91c5-e5f2cfba79a3"
      },
      "source": [
        "np.log(flowers)"
      ],
      "execution_count": null,
      "outputs": [
        {
          "output_type": "execute_result",
          "data": {
            "text/plain": [
              "nature\n",
              "Rose         0.693147\n",
              "Lily         2.079442\n",
              "Lotus        2.197225\n",
              "Sunflower    0.000000\n",
              "Name: counts, dtype: float64"
            ]
          },
          "metadata": {
            "tags": []
          },
          "execution_count": 10
        }
      ]
    },
    {
      "cell_type": "code",
      "metadata": {
        "id": "npL1_wOomD-P",
        "colab_type": "code",
        "colab": {},
        "outputId": "1795dd7f-f07e-49d9-f01e-5375fa2d550a"
      },
      "source": [
        "flowers[flowers>5]"
      ],
      "execution_count": null,
      "outputs": [
        {
          "output_type": "execute_result",
          "data": {
            "text/plain": [
              "nature\n",
              "Lily     8\n",
              "Lotus    9\n",
              "Name: counts, dtype: int64"
            ]
          },
          "metadata": {
            "tags": []
          },
          "execution_count": 11
        }
      ]
    },
    {
      "cell_type": "code",
      "metadata": {
        "id": "mHpPdxUimD-U",
        "colab_type": "code",
        "colab": {},
        "outputId": "301d9911-dc98-4e27-9fcd-9eb9e6cbe394"
      },
      "source": [
        "flowers_dict={'Rose':2 ,'Lily':8 , 'Lotus':9 , 'Sunflower':1}\n",
        "print(flowers_dict)\n",
        "pd.Series(flowers_dict)"
      ],
      "execution_count": null,
      "outputs": [
        {
          "output_type": "stream",
          "text": [
            "{'Rose': 2, 'Lily': 8, 'Lotus': 9, 'Sunflower': 1}\n"
          ],
          "name": "stdout"
        },
        {
          "output_type": "execute_result",
          "data": {
            "text/plain": [
              "Rose         2\n",
              "Lily         8\n",
              "Lotus        9\n",
              "Sunflower    1\n",
              "dtype: int64"
            ]
          },
          "metadata": {
            "tags": []
          },
          "execution_count": 12
        }
      ]
    },
    {
      "cell_type": "code",
      "metadata": {
        "id": "pC6KNpzSmD-Z",
        "colab_type": "code",
        "colab": {},
        "outputId": "d5c0ef25-ab9a-45db-ba38-a2954a36cb16"
      },
      "source": [
        "data = {\"Cities\": [\"MANGALORE\", \"MANGALORE\", \"BANGALORE\", \"BANGALORE\", \"KARWAR\",\"KARWAR\",\"MYSORE\"],\n",
        "        \"Year\": [2019, 2020, 2019, 2020, 2019 , 2020 , 2020],\n",
        "        \"Result\": [8.6,  9.3, 8.9,9.8 , 9.6 , 8.9, 9.1]}\n",
        "print(data)\n",
        "data = pd.DataFrame(data)\n",
        "data"
      ],
      "execution_count": null,
      "outputs": [
        {
          "output_type": "stream",
          "text": [
            "{'Cities': ['MANGALORE', 'MANGALORE', 'BANGALORE', 'BANGALORE', 'KARWAR', 'KARWAR', 'MYSORE'], 'Year': [2019, 2020, 2019, 2020, 2019, 2020, 2020], 'Result': [8.6, 9.3, 8.9, 9.8, 9.6, 8.9, 9.1]}\n"
          ],
          "name": "stdout"
        },
        {
          "output_type": "execute_result",
          "data": {
            "text/html": [
              "<div>\n",
              "<style scoped>\n",
              "    .dataframe tbody tr th:only-of-type {\n",
              "        vertical-align: middle;\n",
              "    }\n",
              "\n",
              "    .dataframe tbody tr th {\n",
              "        vertical-align: top;\n",
              "    }\n",
              "\n",
              "    .dataframe thead th {\n",
              "        text-align: right;\n",
              "    }\n",
              "</style>\n",
              "<table border=\"1\" class=\"dataframe\">\n",
              "  <thead>\n",
              "    <tr style=\"text-align: right;\">\n",
              "      <th></th>\n",
              "      <th>Cities</th>\n",
              "      <th>Year</th>\n",
              "      <th>Result</th>\n",
              "    </tr>\n",
              "  </thead>\n",
              "  <tbody>\n",
              "    <tr>\n",
              "      <th>0</th>\n",
              "      <td>MANGALORE</td>\n",
              "      <td>2019</td>\n",
              "      <td>8.6</td>\n",
              "    </tr>\n",
              "    <tr>\n",
              "      <th>1</th>\n",
              "      <td>MANGALORE</td>\n",
              "      <td>2020</td>\n",
              "      <td>9.3</td>\n",
              "    </tr>\n",
              "    <tr>\n",
              "      <th>2</th>\n",
              "      <td>BANGALORE</td>\n",
              "      <td>2019</td>\n",
              "      <td>8.9</td>\n",
              "    </tr>\n",
              "    <tr>\n",
              "      <th>3</th>\n",
              "      <td>BANGALORE</td>\n",
              "      <td>2020</td>\n",
              "      <td>9.8</td>\n",
              "    </tr>\n",
              "    <tr>\n",
              "      <th>4</th>\n",
              "      <td>KARWAR</td>\n",
              "      <td>2019</td>\n",
              "      <td>9.6</td>\n",
              "    </tr>\n",
              "    <tr>\n",
              "      <th>5</th>\n",
              "      <td>KARWAR</td>\n",
              "      <td>2020</td>\n",
              "      <td>8.9</td>\n",
              "    </tr>\n",
              "    <tr>\n",
              "      <th>6</th>\n",
              "      <td>MYSORE</td>\n",
              "      <td>2020</td>\n",
              "      <td>9.1</td>\n",
              "    </tr>\n",
              "  </tbody>\n",
              "</table>\n",
              "</div>"
            ],
            "text/plain": [
              "      Cities  Year  Result\n",
              "0  MANGALORE  2019     8.6\n",
              "1  MANGALORE  2020     9.3\n",
              "2  BANGALORE  2019     8.9\n",
              "3  BANGALORE  2020     9.8\n",
              "4     KARWAR  2019     9.6\n",
              "5     KARWAR  2020     8.9\n",
              "6     MYSORE  2020     9.1"
            ]
          },
          "metadata": {
            "tags": []
          },
          "execution_count": 13
        }
      ]
    },
    {
      "cell_type": "code",
      "metadata": {
        "id": "Jy3ZHXqXmD-f",
        "colab_type": "code",
        "colab": {},
        "outputId": "37aa7140-ca83-4e6d-ac92-03499b0d09a2"
      },
      "source": [
        "df = pd.DataFrame(data, columns=[\"Year\",  \"Result\" , \"Cities\"])\n",
        "df"
      ],
      "execution_count": null,
      "outputs": [
        {
          "output_type": "execute_result",
          "data": {
            "text/html": [
              "<div>\n",
              "<style scoped>\n",
              "    .dataframe tbody tr th:only-of-type {\n",
              "        vertical-align: middle;\n",
              "    }\n",
              "\n",
              "    .dataframe tbody tr th {\n",
              "        vertical-align: top;\n",
              "    }\n",
              "\n",
              "    .dataframe thead th {\n",
              "        text-align: right;\n",
              "    }\n",
              "</style>\n",
              "<table border=\"1\" class=\"dataframe\">\n",
              "  <thead>\n",
              "    <tr style=\"text-align: right;\">\n",
              "      <th></th>\n",
              "      <th>Year</th>\n",
              "      <th>Result</th>\n",
              "      <th>Cities</th>\n",
              "    </tr>\n",
              "  </thead>\n",
              "  <tbody>\n",
              "    <tr>\n",
              "      <th>0</th>\n",
              "      <td>2019</td>\n",
              "      <td>8.6</td>\n",
              "      <td>MANGALORE</td>\n",
              "    </tr>\n",
              "    <tr>\n",
              "      <th>1</th>\n",
              "      <td>2020</td>\n",
              "      <td>9.3</td>\n",
              "      <td>MANGALORE</td>\n",
              "    </tr>\n",
              "    <tr>\n",
              "      <th>2</th>\n",
              "      <td>2019</td>\n",
              "      <td>8.9</td>\n",
              "      <td>BANGALORE</td>\n",
              "    </tr>\n",
              "    <tr>\n",
              "      <th>3</th>\n",
              "      <td>2020</td>\n",
              "      <td>9.8</td>\n",
              "      <td>BANGALORE</td>\n",
              "    </tr>\n",
              "    <tr>\n",
              "      <th>4</th>\n",
              "      <td>2019</td>\n",
              "      <td>9.6</td>\n",
              "      <td>KARWAR</td>\n",
              "    </tr>\n",
              "    <tr>\n",
              "      <th>5</th>\n",
              "      <td>2020</td>\n",
              "      <td>8.9</td>\n",
              "      <td>KARWAR</td>\n",
              "    </tr>\n",
              "    <tr>\n",
              "      <th>6</th>\n",
              "      <td>2020</td>\n",
              "      <td>9.1</td>\n",
              "      <td>MYSORE</td>\n",
              "    </tr>\n",
              "  </tbody>\n",
              "</table>\n",
              "</div>"
            ],
            "text/plain": [
              "   Year  Result     Cities\n",
              "0  2019     8.6  MANGALORE\n",
              "1  2020     9.3  MANGALORE\n",
              "2  2019     8.9  BANGALORE\n",
              "3  2020     9.8  BANGALORE\n",
              "4  2019     9.6     KARWAR\n",
              "5  2020     8.9     KARWAR\n",
              "6  2020     9.1     MYSORE"
            ]
          },
          "metadata": {
            "tags": []
          },
          "execution_count": 14
        }
      ]
    },
    {
      "cell_type": "code",
      "metadata": {
        "id": "aQUvMtCdmD-k",
        "colab_type": "code",
        "colab": {},
        "outputId": "c327ceea-888b-48fc-9688-a47eacd20fee"
      },
      "source": [
        "df['diffrence'] = df.Year / df.Result\n",
        "df"
      ],
      "execution_count": null,
      "outputs": [
        {
          "output_type": "execute_result",
          "data": {
            "text/html": [
              "<div>\n",
              "<style scoped>\n",
              "    .dataframe tbody tr th:only-of-type {\n",
              "        vertical-align: middle;\n",
              "    }\n",
              "\n",
              "    .dataframe tbody tr th {\n",
              "        vertical-align: top;\n",
              "    }\n",
              "\n",
              "    .dataframe thead th {\n",
              "        text-align: right;\n",
              "    }\n",
              "</style>\n",
              "<table border=\"1\" class=\"dataframe\">\n",
              "  <thead>\n",
              "    <tr style=\"text-align: right;\">\n",
              "      <th></th>\n",
              "      <th>Year</th>\n",
              "      <th>Result</th>\n",
              "      <th>Cities</th>\n",
              "      <th>diffrence</th>\n",
              "    </tr>\n",
              "  </thead>\n",
              "  <tbody>\n",
              "    <tr>\n",
              "      <th>0</th>\n",
              "      <td>2019</td>\n",
              "      <td>8.6</td>\n",
              "      <td>MANGALORE</td>\n",
              "      <td>234.767442</td>\n",
              "    </tr>\n",
              "    <tr>\n",
              "      <th>1</th>\n",
              "      <td>2020</td>\n",
              "      <td>9.3</td>\n",
              "      <td>MANGALORE</td>\n",
              "      <td>217.204301</td>\n",
              "    </tr>\n",
              "    <tr>\n",
              "      <th>2</th>\n",
              "      <td>2019</td>\n",
              "      <td>8.9</td>\n",
              "      <td>BANGALORE</td>\n",
              "      <td>226.853933</td>\n",
              "    </tr>\n",
              "    <tr>\n",
              "      <th>3</th>\n",
              "      <td>2020</td>\n",
              "      <td>9.8</td>\n",
              "      <td>BANGALORE</td>\n",
              "      <td>206.122449</td>\n",
              "    </tr>\n",
              "    <tr>\n",
              "      <th>4</th>\n",
              "      <td>2019</td>\n",
              "      <td>9.6</td>\n",
              "      <td>KARWAR</td>\n",
              "      <td>210.312500</td>\n",
              "    </tr>\n",
              "    <tr>\n",
              "      <th>5</th>\n",
              "      <td>2020</td>\n",
              "      <td>8.9</td>\n",
              "      <td>KARWAR</td>\n",
              "      <td>226.966292</td>\n",
              "    </tr>\n",
              "    <tr>\n",
              "      <th>6</th>\n",
              "      <td>2020</td>\n",
              "      <td>9.1</td>\n",
              "      <td>MYSORE</td>\n",
              "      <td>221.978022</td>\n",
              "    </tr>\n",
              "  </tbody>\n",
              "</table>\n",
              "</div>"
            ],
            "text/plain": [
              "   Year  Result     Cities   diffrence\n",
              "0  2019     8.6  MANGALORE  234.767442\n",
              "1  2020     9.3  MANGALORE  217.204301\n",
              "2  2019     8.9  BANGALORE  226.853933\n",
              "3  2020     9.8  BANGALORE  206.122449\n",
              "4  2019     9.6     KARWAR  210.312500\n",
              "5  2020     8.9     KARWAR  226.966292\n",
              "6  2020     9.1     MYSORE  221.978022"
            ]
          },
          "metadata": {
            "tags": []
          },
          "execution_count": 15
        }
      ]
    },
    {
      "cell_type": "code",
      "metadata": {
        "scrolled": true,
        "id": "WikLZ-XjmD-p",
        "colab_type": "code",
        "colab": {},
        "outputId": "1cb0f160-1c88-45fe-ccb9-e174006cd756"
      },
      "source": [
        "df['Serie_aligned'] = pd.Series(range(6), index=[0,1,2, 3, 4,6])\n",
        "df"
      ],
      "execution_count": null,
      "outputs": [
        {
          "output_type": "execute_result",
          "data": {
            "text/html": [
              "<div>\n",
              "<style scoped>\n",
              "    .dataframe tbody tr th:only-of-type {\n",
              "        vertical-align: middle;\n",
              "    }\n",
              "\n",
              "    .dataframe tbody tr th {\n",
              "        vertical-align: top;\n",
              "    }\n",
              "\n",
              "    .dataframe thead th {\n",
              "        text-align: right;\n",
              "    }\n",
              "</style>\n",
              "<table border=\"1\" class=\"dataframe\">\n",
              "  <thead>\n",
              "    <tr style=\"text-align: right;\">\n",
              "      <th></th>\n",
              "      <th>Year</th>\n",
              "      <th>Result</th>\n",
              "      <th>Cities</th>\n",
              "      <th>diffrence</th>\n",
              "      <th>Serie_aligned</th>\n",
              "    </tr>\n",
              "  </thead>\n",
              "  <tbody>\n",
              "    <tr>\n",
              "      <th>0</th>\n",
              "      <td>2019</td>\n",
              "      <td>8.6</td>\n",
              "      <td>MANGALORE</td>\n",
              "      <td>234.767442</td>\n",
              "      <td>0.0</td>\n",
              "    </tr>\n",
              "    <tr>\n",
              "      <th>1</th>\n",
              "      <td>2020</td>\n",
              "      <td>9.3</td>\n",
              "      <td>MANGALORE</td>\n",
              "      <td>217.204301</td>\n",
              "      <td>1.0</td>\n",
              "    </tr>\n",
              "    <tr>\n",
              "      <th>2</th>\n",
              "      <td>2019</td>\n",
              "      <td>8.9</td>\n",
              "      <td>BANGALORE</td>\n",
              "      <td>226.853933</td>\n",
              "      <td>2.0</td>\n",
              "    </tr>\n",
              "    <tr>\n",
              "      <th>3</th>\n",
              "      <td>2020</td>\n",
              "      <td>9.8</td>\n",
              "      <td>BANGALORE</td>\n",
              "      <td>206.122449</td>\n",
              "      <td>3.0</td>\n",
              "    </tr>\n",
              "    <tr>\n",
              "      <th>4</th>\n",
              "      <td>2019</td>\n",
              "      <td>9.6</td>\n",
              "      <td>KARWAR</td>\n",
              "      <td>210.312500</td>\n",
              "      <td>4.0</td>\n",
              "    </tr>\n",
              "    <tr>\n",
              "      <th>5</th>\n",
              "      <td>2020</td>\n",
              "      <td>8.9</td>\n",
              "      <td>KARWAR</td>\n",
              "      <td>226.966292</td>\n",
              "      <td>NaN</td>\n",
              "    </tr>\n",
              "    <tr>\n",
              "      <th>6</th>\n",
              "      <td>2020</td>\n",
              "      <td>9.1</td>\n",
              "      <td>MYSORE</td>\n",
              "      <td>221.978022</td>\n",
              "      <td>5.0</td>\n",
              "    </tr>\n",
              "  </tbody>\n",
              "</table>\n",
              "</div>"
            ],
            "text/plain": [
              "   Year  Result     Cities   diffrence  Serie_aligned\n",
              "0  2019     8.6  MANGALORE  234.767442            0.0\n",
              "1  2020     9.3  MANGALORE  217.204301            1.0\n",
              "2  2019     8.9  BANGALORE  226.853933            2.0\n",
              "3  2020     9.8  BANGALORE  206.122449            3.0\n",
              "4  2019     9.6     KARWAR  210.312500            4.0\n",
              "5  2020     8.9     KARWAR  226.966292            NaN\n",
              "6  2020     9.1     MYSORE  221.978022            5.0"
            ]
          },
          "metadata": {
            "tags": []
          },
          "execution_count": 16
        }
      ]
    },
    {
      "cell_type": "code",
      "metadata": {
        "id": "D7s0EialmD-v",
        "colab_type": "code",
        "colab": {},
        "outputId": "21e8a68c-8f83-41a9-e80b-83acc63cf968"
      },
      "source": [
        "df.to_dict()"
      ],
      "execution_count": null,
      "outputs": [
        {
          "output_type": "execute_result",
          "data": {
            "text/plain": [
              "{'Year': {0: 2019, 1: 2020, 2: 2019, 3: 2020, 4: 2019, 5: 2020, 6: 2020},\n",
              " 'Result': {0: 8.6, 1: 9.3, 2: 8.9, 3: 9.8, 4: 9.6, 5: 8.9, 6: 9.1},\n",
              " 'Cities': {0: 'MANGALORE',\n",
              "  1: 'MANGALORE',\n",
              "  2: 'BANGALORE',\n",
              "  3: 'BANGALORE',\n",
              "  4: 'KARWAR',\n",
              "  5: 'KARWAR',\n",
              "  6: 'MYSORE'},\n",
              " 'diffrence': {0: 234.7674418604651,\n",
              "  1: 217.2043010752688,\n",
              "  2: 226.85393258426964,\n",
              "  3: 206.1224489795918,\n",
              "  4: 210.3125,\n",
              "  5: 226.96629213483146,\n",
              "  6: 221.97802197802199},\n",
              " 'Serie_aligned': {0: 0.0, 1: 1.0, 2: 2.0, 3: 3.0, 4: 4.0, 5: nan, 6: 5.0}}"
            ]
          },
          "metadata": {
            "tags": []
          },
          "execution_count": 17
        }
      ]
    },
    {
      "cell_type": "code",
      "metadata": {
        "scrolled": true,
        "id": "GkGul868mD-4",
        "colab_type": "code",
        "colab": {},
        "outputId": "9b86eb77-3e01-4a94-a71d-0d00af35dff3"
      },
      "source": [
        "pd.DataFrame(df.to_dict())"
      ],
      "execution_count": null,
      "outputs": [
        {
          "output_type": "execute_result",
          "data": {
            "text/html": [
              "<div>\n",
              "<style scoped>\n",
              "    .dataframe tbody tr th:only-of-type {\n",
              "        vertical-align: middle;\n",
              "    }\n",
              "\n",
              "    .dataframe tbody tr th {\n",
              "        vertical-align: top;\n",
              "    }\n",
              "\n",
              "    .dataframe thead th {\n",
              "        text-align: right;\n",
              "    }\n",
              "</style>\n",
              "<table border=\"1\" class=\"dataframe\">\n",
              "  <thead>\n",
              "    <tr style=\"text-align: right;\">\n",
              "      <th></th>\n",
              "      <th>Year</th>\n",
              "      <th>Result</th>\n",
              "      <th>Cities</th>\n",
              "      <th>diffrence</th>\n",
              "      <th>Serie_aligned</th>\n",
              "    </tr>\n",
              "  </thead>\n",
              "  <tbody>\n",
              "    <tr>\n",
              "      <th>0</th>\n",
              "      <td>2019</td>\n",
              "      <td>8.6</td>\n",
              "      <td>MANGALORE</td>\n",
              "      <td>234.767442</td>\n",
              "      <td>0.0</td>\n",
              "    </tr>\n",
              "    <tr>\n",
              "      <th>1</th>\n",
              "      <td>2020</td>\n",
              "      <td>9.3</td>\n",
              "      <td>MANGALORE</td>\n",
              "      <td>217.204301</td>\n",
              "      <td>1.0</td>\n",
              "    </tr>\n",
              "    <tr>\n",
              "      <th>2</th>\n",
              "      <td>2019</td>\n",
              "      <td>8.9</td>\n",
              "      <td>BANGALORE</td>\n",
              "      <td>226.853933</td>\n",
              "      <td>2.0</td>\n",
              "    </tr>\n",
              "    <tr>\n",
              "      <th>3</th>\n",
              "      <td>2020</td>\n",
              "      <td>9.8</td>\n",
              "      <td>BANGALORE</td>\n",
              "      <td>206.122449</td>\n",
              "      <td>3.0</td>\n",
              "    </tr>\n",
              "    <tr>\n",
              "      <th>4</th>\n",
              "      <td>2019</td>\n",
              "      <td>9.6</td>\n",
              "      <td>KARWAR</td>\n",
              "      <td>210.312500</td>\n",
              "      <td>4.0</td>\n",
              "    </tr>\n",
              "    <tr>\n",
              "      <th>5</th>\n",
              "      <td>2020</td>\n",
              "      <td>8.9</td>\n",
              "      <td>KARWAR</td>\n",
              "      <td>226.966292</td>\n",
              "      <td>NaN</td>\n",
              "    </tr>\n",
              "    <tr>\n",
              "      <th>6</th>\n",
              "      <td>2020</td>\n",
              "      <td>9.1</td>\n",
              "      <td>MYSORE</td>\n",
              "      <td>221.978022</td>\n",
              "      <td>5.0</td>\n",
              "    </tr>\n",
              "  </tbody>\n",
              "</table>\n",
              "</div>"
            ],
            "text/plain": [
              "   Year  Result     Cities   diffrence  Serie_aligned\n",
              "0  2019     8.6  MANGALORE  234.767442            0.0\n",
              "1  2020     9.3  MANGALORE  217.204301            1.0\n",
              "2  2019     8.9  BANGALORE  226.853933            2.0\n",
              "3  2020     9.8  BANGALORE  206.122449            3.0\n",
              "4  2019     9.6     KARWAR  210.312500            4.0\n",
              "5  2020     8.9     KARWAR  226.966292            NaN\n",
              "6  2020     9.1     MYSORE  221.978022            5.0"
            ]
          },
          "metadata": {
            "tags": []
          },
          "execution_count": 18
        }
      ]
    },
    {
      "cell_type": "code",
      "metadata": {
        "id": "Dez8mdT9mD-_",
        "colab_type": "code",
        "colab": {},
        "outputId": "5983b900-4d64-444f-e14d-9e9b09c511d9"
      },
      "source": [
        "data = [{'m': i, 'n':20* i}for i in range(6)]\n",
        "print(data)\n",
        "pd.DataFrame(data)"
      ],
      "execution_count": null,
      "outputs": [
        {
          "output_type": "stream",
          "text": [
            "[{'m': 0, 'n': 0}, {'m': 1, 'n': 20}, {'m': 2, 'n': 40}, {'m': 3, 'n': 60}, {'m': 4, 'n': 80}, {'m': 5, 'n': 100}]\n"
          ],
          "name": "stdout"
        },
        {
          "output_type": "execute_result",
          "data": {
            "text/html": [
              "<div>\n",
              "<style scoped>\n",
              "    .dataframe tbody tr th:only-of-type {\n",
              "        vertical-align: middle;\n",
              "    }\n",
              "\n",
              "    .dataframe tbody tr th {\n",
              "        vertical-align: top;\n",
              "    }\n",
              "\n",
              "    .dataframe thead th {\n",
              "        text-align: right;\n",
              "    }\n",
              "</style>\n",
              "<table border=\"1\" class=\"dataframe\">\n",
              "  <thead>\n",
              "    <tr style=\"text-align: right;\">\n",
              "      <th></th>\n",
              "      <th>m</th>\n",
              "      <th>n</th>\n",
              "    </tr>\n",
              "  </thead>\n",
              "  <tbody>\n",
              "    <tr>\n",
              "      <th>0</th>\n",
              "      <td>0</td>\n",
              "      <td>0</td>\n",
              "    </tr>\n",
              "    <tr>\n",
              "      <th>1</th>\n",
              "      <td>1</td>\n",
              "      <td>20</td>\n",
              "    </tr>\n",
              "    <tr>\n",
              "      <th>2</th>\n",
              "      <td>2</td>\n",
              "      <td>40</td>\n",
              "    </tr>\n",
              "    <tr>\n",
              "      <th>3</th>\n",
              "      <td>3</td>\n",
              "      <td>60</td>\n",
              "    </tr>\n",
              "    <tr>\n",
              "      <th>4</th>\n",
              "      <td>4</td>\n",
              "      <td>80</td>\n",
              "    </tr>\n",
              "    <tr>\n",
              "      <th>5</th>\n",
              "      <td>5</td>\n",
              "      <td>100</td>\n",
              "    </tr>\n",
              "  </tbody>\n",
              "</table>\n",
              "</div>"
            ],
            "text/plain": [
              "   m    n\n",
              "0  0    0\n",
              "1  1   20\n",
              "2  2   40\n",
              "3  3   60\n",
              "4  4   80\n",
              "5  5  100"
            ]
          },
          "metadata": {
            "tags": []
          },
          "execution_count": 19
        }
      ]
    },
    {
      "cell_type": "code",
      "metadata": {
        "id": "eUqSmew2mD_F",
        "colab_type": "code",
        "colab": {},
        "outputId": "0861fe49-0eb0-40be-f24f-148b71aa631a"
      },
      "source": [
        "pd.DataFrame([{'mm': 1, 'nn': 2}, {'nn': 4, 'pp': 8}])"
      ],
      "execution_count": null,
      "outputs": [
        {
          "output_type": "execute_result",
          "data": {
            "text/html": [
              "<div>\n",
              "<style scoped>\n",
              "    .dataframe tbody tr th:only-of-type {\n",
              "        vertical-align: middle;\n",
              "    }\n",
              "\n",
              "    .dataframe tbody tr th {\n",
              "        vertical-align: top;\n",
              "    }\n",
              "\n",
              "    .dataframe thead th {\n",
              "        text-align: right;\n",
              "    }\n",
              "</style>\n",
              "<table border=\"1\" class=\"dataframe\">\n",
              "  <thead>\n",
              "    <tr style=\"text-align: right;\">\n",
              "      <th></th>\n",
              "      <th>mm</th>\n",
              "      <th>nn</th>\n",
              "      <th>pp</th>\n",
              "    </tr>\n",
              "  </thead>\n",
              "  <tbody>\n",
              "    <tr>\n",
              "      <th>0</th>\n",
              "      <td>1.0</td>\n",
              "      <td>2</td>\n",
              "      <td>NaN</td>\n",
              "    </tr>\n",
              "    <tr>\n",
              "      <th>1</th>\n",
              "      <td>NaN</td>\n",
              "      <td>4</td>\n",
              "      <td>8.0</td>\n",
              "    </tr>\n",
              "  </tbody>\n",
              "</table>\n",
              "</div>"
            ],
            "text/plain": [
              "    mm  nn   pp\n",
              "0  1.0   2  NaN\n",
              "1  NaN   4  8.0"
            ]
          },
          "metadata": {
            "tags": []
          },
          "execution_count": 20
        }
      ]
    },
    {
      "cell_type": "code",
      "metadata": {
        "id": "UnO4YlTvmD_K",
        "colab_type": "code",
        "colab": {},
        "outputId": "1cd696d3-aa9f-4690-c8d8-a2c763c50224"
      },
      "source": [
        "pd.DataFrame(np.random.randint(1, 15),\n",
        "             columns=['foo', 'bar'],\n",
        "             index=['m', 'n', 'p'])\n",
        "\n"
      ],
      "execution_count": null,
      "outputs": [
        {
          "output_type": "execute_result",
          "data": {
            "text/html": [
              "<div>\n",
              "<style scoped>\n",
              "    .dataframe tbody tr th:only-of-type {\n",
              "        vertical-align: middle;\n",
              "    }\n",
              "\n",
              "    .dataframe tbody tr th {\n",
              "        vertical-align: top;\n",
              "    }\n",
              "\n",
              "    .dataframe thead th {\n",
              "        text-align: right;\n",
              "    }\n",
              "</style>\n",
              "<table border=\"1\" class=\"dataframe\">\n",
              "  <thead>\n",
              "    <tr style=\"text-align: right;\">\n",
              "      <th></th>\n",
              "      <th>foo</th>\n",
              "      <th>bar</th>\n",
              "    </tr>\n",
              "  </thead>\n",
              "  <tbody>\n",
              "    <tr>\n",
              "      <th>m</th>\n",
              "      <td>6</td>\n",
              "      <td>6</td>\n",
              "    </tr>\n",
              "    <tr>\n",
              "      <th>n</th>\n",
              "      <td>6</td>\n",
              "      <td>6</td>\n",
              "    </tr>\n",
              "    <tr>\n",
              "      <th>p</th>\n",
              "      <td>6</td>\n",
              "      <td>6</td>\n",
              "    </tr>\n",
              "  </tbody>\n",
              "</table>\n",
              "</div>"
            ],
            "text/plain": [
              "   foo  bar\n",
              "m    6    6\n",
              "n    6    6\n",
              "p    6    6"
            ]
          },
          "metadata": {
            "tags": []
          },
          "execution_count": 21
        }
      ]
    },
    {
      "cell_type": "code",
      "metadata": {
        "id": "4LH3Dg0HmD_P",
        "colab_type": "code",
        "colab": {},
        "outputId": "f89e8dbf-6547-461b-f748-ff652e231fc0"
      },
      "source": [
        "ind = pd.Index([10, 56, 27, 87,60, 821])\n",
        "ind"
      ],
      "execution_count": null,
      "outputs": [
        {
          "output_type": "execute_result",
          "data": {
            "text/plain": [
              "Int64Index([10, 56, 27, 87, 60, 821], dtype='int64')"
            ]
          },
          "metadata": {
            "tags": []
          },
          "execution_count": 22
        }
      ]
    },
    {
      "cell_type": "code",
      "metadata": {
        "id": "hiqVWKSemD_V",
        "colab_type": "code",
        "colab": {},
        "outputId": "17b33a77-f04c-4c23-ba6f-3e4a6da54386"
      },
      "source": [
        "ind[5]"
      ],
      "execution_count": null,
      "outputs": [
        {
          "output_type": "execute_result",
          "data": {
            "text/plain": [
              "821"
            ]
          },
          "metadata": {
            "tags": []
          },
          "execution_count": 23
        }
      ]
    },
    {
      "cell_type": "code",
      "metadata": {
        "id": "HxKpZx6cmD_a",
        "colab_type": "code",
        "colab": {},
        "outputId": "46ca65e2-333a-4677-b648-76f604ace82c"
      },
      "source": [
        "ind[::]"
      ],
      "execution_count": null,
      "outputs": [
        {
          "output_type": "execute_result",
          "data": {
            "text/plain": [
              "Int64Index([10, 56, 27, 87, 60, 821], dtype='int64')"
            ]
          },
          "metadata": {
            "tags": []
          },
          "execution_count": 24
        }
      ]
    },
    {
      "cell_type": "code",
      "metadata": {
        "id": "zheUk49hmD_g",
        "colab_type": "code",
        "colab": {},
        "outputId": "dd59d737-0046-453d-ba79-31385c991dc0"
      },
      "source": [
        "print(ind.size, ind.shape, ind.ndim, ind.dtype)"
      ],
      "execution_count": null,
      "outputs": [
        {
          "output_type": "stream",
          "text": [
            "6 (6,) 1 int64\n"
          ],
          "name": "stdout"
        }
      ]
    },
    {
      "cell_type": "code",
      "metadata": {
        "id": "WZq8El4bmD_m",
        "colab_type": "code",
        "colab": {},
        "outputId": "d5c5f8db-88f6-4b2d-be23-17dbdca4fad0"
      },
      "source": [
        "rng = np.random.RandomState(18)\n",
        "ser = pd.Series(rng.randint(0, 15, 9))\n",
        "ser"
      ],
      "execution_count": null,
      "outputs": [
        {
          "output_type": "execute_result",
          "data": {
            "text/plain": [
              "0    10\n",
              "1     3\n",
              "2     8\n",
              "3     5\n",
              "4    14\n",
              "5     1\n",
              "6    14\n",
              "7     2\n",
              "8     2\n",
              "dtype: int32"
            ]
          },
          "metadata": {
            "tags": []
          },
          "execution_count": 26
        }
      ]
    },
    {
      "cell_type": "code",
      "metadata": {
        "id": "DjG9L4xSmD_t",
        "colab_type": "code",
        "colab": {},
        "outputId": "be2ddec2-8975-4f3e-dfe6-71206433b398"
      },
      "source": [
        "dfr = pd.DataFrame(rng.randint(0, 18, (6, 4)),\n",
        "                  columns=['A', 'B', 'C', 'D'])\n",
        "dfr"
      ],
      "execution_count": null,
      "outputs": [
        {
          "output_type": "execute_result",
          "data": {
            "text/html": [
              "<div>\n",
              "<style scoped>\n",
              "    .dataframe tbody tr th:only-of-type {\n",
              "        vertical-align: middle;\n",
              "    }\n",
              "\n",
              "    .dataframe tbody tr th {\n",
              "        vertical-align: top;\n",
              "    }\n",
              "\n",
              "    .dataframe thead th {\n",
              "        text-align: right;\n",
              "    }\n",
              "</style>\n",
              "<table border=\"1\" class=\"dataframe\">\n",
              "  <thead>\n",
              "    <tr style=\"text-align: right;\">\n",
              "      <th></th>\n",
              "      <th>A</th>\n",
              "      <th>B</th>\n",
              "      <th>C</th>\n",
              "      <th>D</th>\n",
              "    </tr>\n",
              "  </thead>\n",
              "  <tbody>\n",
              "    <tr>\n",
              "      <th>0</th>\n",
              "      <td>8</td>\n",
              "      <td>2</td>\n",
              "      <td>17</td>\n",
              "      <td>5</td>\n",
              "    </tr>\n",
              "    <tr>\n",
              "      <th>1</th>\n",
              "      <td>15</td>\n",
              "      <td>10</td>\n",
              "      <td>10</td>\n",
              "      <td>11</td>\n",
              "    </tr>\n",
              "    <tr>\n",
              "      <th>2</th>\n",
              "      <td>4</td>\n",
              "      <td>4</td>\n",
              "      <td>11</td>\n",
              "      <td>1</td>\n",
              "    </tr>\n",
              "    <tr>\n",
              "      <th>3</th>\n",
              "      <td>3</td>\n",
              "      <td>9</td>\n",
              "      <td>5</td>\n",
              "      <td>14</td>\n",
              "    </tr>\n",
              "    <tr>\n",
              "      <th>4</th>\n",
              "      <td>6</td>\n",
              "      <td>13</td>\n",
              "      <td>8</td>\n",
              "      <td>0</td>\n",
              "    </tr>\n",
              "    <tr>\n",
              "      <th>5</th>\n",
              "      <td>9</td>\n",
              "      <td>13</td>\n",
              "      <td>10</td>\n",
              "      <td>13</td>\n",
              "    </tr>\n",
              "  </tbody>\n",
              "</table>\n",
              "</div>"
            ],
            "text/plain": [
              "    A   B   C   D\n",
              "0   8   2  17   5\n",
              "1  15  10  10  11\n",
              "2   4   4  11   1\n",
              "3   3   9   5  14\n",
              "4   6  13   8   0\n",
              "5   9  13  10  13"
            ]
          },
          "metadata": {
            "tags": []
          },
          "execution_count": 27
        }
      ]
    },
    {
      "cell_type": "code",
      "metadata": {
        "id": "xTMFPqkXmD_y",
        "colab_type": "code",
        "colab": {},
        "outputId": "5e40ea58-f6b5-452d-9bbd-ab0cfae6ec5f"
      },
      "source": [
        "np.exp(ser)"
      ],
      "execution_count": null,
      "outputs": [
        {
          "output_type": "execute_result",
          "data": {
            "text/plain": [
              "0    2.202647e+04\n",
              "1    2.008554e+01\n",
              "2    2.980958e+03\n",
              "3    1.484132e+02\n",
              "4    1.202604e+06\n",
              "5    2.718282e+00\n",
              "6    1.202604e+06\n",
              "7    7.389056e+00\n",
              "8    7.389056e+00\n",
              "dtype: float64"
            ]
          },
          "metadata": {
            "tags": []
          },
          "execution_count": 28
        }
      ]
    },
    {
      "cell_type": "code",
      "metadata": {
        "id": "co3ivmYamD_4",
        "colab_type": "code",
        "colab": {},
        "outputId": "c1e45f21-9db1-44d1-ddba-74dab4ed2a9c"
      },
      "source": [
        "np.sin(dfr * np.pi / 4)"
      ],
      "execution_count": null,
      "outputs": [
        {
          "output_type": "execute_result",
          "data": {
            "text/html": [
              "<div>\n",
              "<style scoped>\n",
              "    .dataframe tbody tr th:only-of-type {\n",
              "        vertical-align: middle;\n",
              "    }\n",
              "\n",
              "    .dataframe tbody tr th {\n",
              "        vertical-align: top;\n",
              "    }\n",
              "\n",
              "    .dataframe thead th {\n",
              "        text-align: right;\n",
              "    }\n",
              "</style>\n",
              "<table border=\"1\" class=\"dataframe\">\n",
              "  <thead>\n",
              "    <tr style=\"text-align: right;\">\n",
              "      <th></th>\n",
              "      <th>A</th>\n",
              "      <th>B</th>\n",
              "      <th>C</th>\n",
              "      <th>D</th>\n",
              "    </tr>\n",
              "  </thead>\n",
              "  <tbody>\n",
              "    <tr>\n",
              "      <th>0</th>\n",
              "      <td>-2.449294e-16</td>\n",
              "      <td>1.000000e+00</td>\n",
              "      <td>7.071068e-01</td>\n",
              "      <td>-0.707107</td>\n",
              "    </tr>\n",
              "    <tr>\n",
              "      <th>1</th>\n",
              "      <td>-7.071068e-01</td>\n",
              "      <td>1.000000e+00</td>\n",
              "      <td>1.000000e+00</td>\n",
              "      <td>0.707107</td>\n",
              "    </tr>\n",
              "    <tr>\n",
              "      <th>2</th>\n",
              "      <td>1.224647e-16</td>\n",
              "      <td>1.224647e-16</td>\n",
              "      <td>7.071068e-01</td>\n",
              "      <td>0.707107</td>\n",
              "    </tr>\n",
              "    <tr>\n",
              "      <th>3</th>\n",
              "      <td>7.071068e-01</td>\n",
              "      <td>7.071068e-01</td>\n",
              "      <td>-7.071068e-01</td>\n",
              "      <td>-1.000000</td>\n",
              "    </tr>\n",
              "    <tr>\n",
              "      <th>4</th>\n",
              "      <td>-1.000000e+00</td>\n",
              "      <td>-7.071068e-01</td>\n",
              "      <td>-2.449294e-16</td>\n",
              "      <td>0.000000</td>\n",
              "    </tr>\n",
              "    <tr>\n",
              "      <th>5</th>\n",
              "      <td>7.071068e-01</td>\n",
              "      <td>-7.071068e-01</td>\n",
              "      <td>1.000000e+00</td>\n",
              "      <td>-0.707107</td>\n",
              "    </tr>\n",
              "  </tbody>\n",
              "</table>\n",
              "</div>"
            ],
            "text/plain": [
              "              A             B             C         D\n",
              "0 -2.449294e-16  1.000000e+00  7.071068e-01 -0.707107\n",
              "1 -7.071068e-01  1.000000e+00  1.000000e+00  0.707107\n",
              "2  1.224647e-16  1.224647e-16  7.071068e-01  0.707107\n",
              "3  7.071068e-01  7.071068e-01 -7.071068e-01 -1.000000\n",
              "4 -1.000000e+00 -7.071068e-01 -2.449294e-16  0.000000\n",
              "5  7.071068e-01 -7.071068e-01  1.000000e+00 -0.707107"
            ]
          },
          "metadata": {
            "tags": []
          },
          "execution_count": 29
        }
      ]
    },
    {
      "cell_type": "code",
      "metadata": {
        "id": "aYcAim7gmD_-",
        "colab_type": "code",
        "colab": {},
        "outputId": "38ddfd9b-b15c-4501-bcea-5985ff3248fd"
      },
      "source": [
        "area = pd.Series({'Bangalore': 1757, 'Mangalore': 6662,\n",
        "                  'Cennai': 4467 , 'Delhi':5313}, name='area')\n",
        "population = pd.Series({'Cannada': 38352521, 'Tokyo': 2644193,\n",
        "                        'New zealand': 191121327 , 'India':456595}, name='population')\n",
        "print(area)\n",
        "population\n"
      ],
      "execution_count": null,
      "outputs": [
        {
          "output_type": "stream",
          "text": [
            "Bangalore    1757\n",
            "Mangalore    6662\n",
            "Cennai       4467\n",
            "Delhi        5313\n",
            "Name: area, dtype: int64\n"
          ],
          "name": "stdout"
        },
        {
          "output_type": "execute_result",
          "data": {
            "text/plain": [
              "Cannada         38352521\n",
              "Tokyo            2644193\n",
              "New zealand    191121327\n",
              "India             456595\n",
              "Name: population, dtype: int64"
            ]
          },
          "metadata": {
            "tags": []
          },
          "execution_count": 30
        }
      ]
    },
    {
      "cell_type": "code",
      "metadata": {
        "id": "fU4ufGNxmEAC",
        "colab_type": "code",
        "colab": {},
        "outputId": "41c4e52c-736a-45d6-8de2-03b243be53f5"
      },
      "source": [
        "population / area"
      ],
      "execution_count": null,
      "outputs": [
        {
          "output_type": "execute_result",
          "data": {
            "text/plain": [
              "Bangalore     NaN\n",
              "Cannada       NaN\n",
              "Cennai        NaN\n",
              "Delhi         NaN\n",
              "India         NaN\n",
              "Mangalore     NaN\n",
              "New zealand   NaN\n",
              "Tokyo         NaN\n",
              "dtype: float64"
            ]
          },
          "metadata": {
            "tags": []
          },
          "execution_count": 31
        }
      ]
    },
    {
      "cell_type": "code",
      "metadata": {
        "id": "MZax-YF2mEAI",
        "colab_type": "code",
        "colab": {},
        "outputId": "a9cc4f36-f2af-40ae-df8a-2462c8f9fc3c"
      },
      "source": [
        "area.index | population.index"
      ],
      "execution_count": null,
      "outputs": [
        {
          "output_type": "execute_result",
          "data": {
            "text/plain": [
              "Index(['Bangalore', 'Cannada', 'Cennai', 'Delhi', 'India', 'Mangalore',\n",
              "       'New zealand', 'Tokyo'],\n",
              "      dtype='object')"
            ]
          },
          "metadata": {
            "tags": []
          },
          "execution_count": 32
        }
      ]
    },
    {
      "cell_type": "code",
      "metadata": {
        "id": "fO8Dt-bOmEAM",
        "colab_type": "code",
        "colab": {},
        "outputId": "25ecafd3-f35e-4802-ca05-d3a351ada702"
      },
      "source": [
        "A = pd.Series([2, 4, 6 , 8 , 10], index=[0, 1, 2 , 3 ,4])\n",
        "B = pd.Series([1, 3, 5 , 7 , 9], index=[1, 2, 3, 4 , 5])\n",
        "print(A)\n",
        "print(B)\n",
        "B\n",
        "A + B"
      ],
      "execution_count": null,
      "outputs": [
        {
          "output_type": "stream",
          "text": [
            "0     2\n",
            "1     4\n",
            "2     6\n",
            "3     8\n",
            "4    10\n",
            "dtype: int64\n",
            "1    1\n",
            "2    3\n",
            "3    5\n",
            "4    7\n",
            "5    9\n",
            "dtype: int64\n"
          ],
          "name": "stdout"
        },
        {
          "output_type": "execute_result",
          "data": {
            "text/plain": [
              "0     NaN\n",
              "1     5.0\n",
              "2     9.0\n",
              "3    13.0\n",
              "4    17.0\n",
              "5     NaN\n",
              "dtype: float64"
            ]
          },
          "metadata": {
            "tags": []
          },
          "execution_count": 33
        }
      ]
    },
    {
      "cell_type": "code",
      "metadata": {
        "id": "jWrPBOxZmEAR",
        "colab_type": "code",
        "colab": {},
        "outputId": "d31850ff-aa3e-4314-b975-ed407d88fd42"
      },
      "source": [
        "A.add(B, fill_value=0)"
      ],
      "execution_count": null,
      "outputs": [
        {
          "output_type": "execute_result",
          "data": {
            "text/plain": [
              "0     2.0\n",
              "1     5.0\n",
              "2     9.0\n",
              "3    13.0\n",
              "4    17.0\n",
              "5     9.0\n",
              "dtype: float64"
            ]
          },
          "metadata": {
            "tags": []
          },
          "execution_count": 34
        }
      ]
    },
    {
      "cell_type": "code",
      "metadata": {
        "id": "SwPYpzOcmEAW",
        "colab_type": "code",
        "colab": {},
        "outputId": "8bceb1f9-92dc-4c1e-e731-0e04398d26e5"
      },
      "source": [
        "df"
      ],
      "execution_count": null,
      "outputs": [
        {
          "output_type": "execute_result",
          "data": {
            "text/html": [
              "<div>\n",
              "<style scoped>\n",
              "    .dataframe tbody tr th:only-of-type {\n",
              "        vertical-align: middle;\n",
              "    }\n",
              "\n",
              "    .dataframe tbody tr th {\n",
              "        vertical-align: top;\n",
              "    }\n",
              "\n",
              "    .dataframe thead th {\n",
              "        text-align: right;\n",
              "    }\n",
              "</style>\n",
              "<table border=\"1\" class=\"dataframe\">\n",
              "  <thead>\n",
              "    <tr style=\"text-align: right;\">\n",
              "      <th></th>\n",
              "      <th>Year</th>\n",
              "      <th>Result</th>\n",
              "      <th>Cities</th>\n",
              "      <th>diffrence</th>\n",
              "      <th>Serie_aligned</th>\n",
              "    </tr>\n",
              "  </thead>\n",
              "  <tbody>\n",
              "    <tr>\n",
              "      <th>0</th>\n",
              "      <td>2019</td>\n",
              "      <td>8.6</td>\n",
              "      <td>MANGALORE</td>\n",
              "      <td>234.767442</td>\n",
              "      <td>0.0</td>\n",
              "    </tr>\n",
              "    <tr>\n",
              "      <th>1</th>\n",
              "      <td>2020</td>\n",
              "      <td>9.3</td>\n",
              "      <td>MANGALORE</td>\n",
              "      <td>217.204301</td>\n",
              "      <td>1.0</td>\n",
              "    </tr>\n",
              "    <tr>\n",
              "      <th>2</th>\n",
              "      <td>2019</td>\n",
              "      <td>8.9</td>\n",
              "      <td>BANGALORE</td>\n",
              "      <td>226.853933</td>\n",
              "      <td>2.0</td>\n",
              "    </tr>\n",
              "    <tr>\n",
              "      <th>3</th>\n",
              "      <td>2020</td>\n",
              "      <td>9.8</td>\n",
              "      <td>BANGALORE</td>\n",
              "      <td>206.122449</td>\n",
              "      <td>3.0</td>\n",
              "    </tr>\n",
              "    <tr>\n",
              "      <th>4</th>\n",
              "      <td>2019</td>\n",
              "      <td>9.6</td>\n",
              "      <td>KARWAR</td>\n",
              "      <td>210.312500</td>\n",
              "      <td>4.0</td>\n",
              "    </tr>\n",
              "    <tr>\n",
              "      <th>5</th>\n",
              "      <td>2020</td>\n",
              "      <td>8.9</td>\n",
              "      <td>KARWAR</td>\n",
              "      <td>226.966292</td>\n",
              "      <td>NaN</td>\n",
              "    </tr>\n",
              "    <tr>\n",
              "      <th>6</th>\n",
              "      <td>2020</td>\n",
              "      <td>9.1</td>\n",
              "      <td>MYSORE</td>\n",
              "      <td>221.978022</td>\n",
              "      <td>5.0</td>\n",
              "    </tr>\n",
              "  </tbody>\n",
              "</table>\n",
              "</div>"
            ],
            "text/plain": [
              "   Year  Result     Cities   diffrence  Serie_aligned\n",
              "0  2019     8.6  MANGALORE  234.767442            0.0\n",
              "1  2020     9.3  MANGALORE  217.204301            1.0\n",
              "2  2019     8.9  BANGALORE  226.853933            2.0\n",
              "3  2020     9.8  BANGALORE  206.122449            3.0\n",
              "4  2019     9.6     KARWAR  210.312500            4.0\n",
              "5  2020     8.9     KARWAR  226.966292            NaN\n",
              "6  2020     9.1     MYSORE  221.978022            5.0"
            ]
          },
          "metadata": {
            "tags": []
          },
          "execution_count": 35
        }
      ]
    },
    {
      "cell_type": "code",
      "metadata": {
        "id": "ZpQcr6VlmEAb",
        "colab_type": "code",
        "colab": {},
        "outputId": "f4e1d624-7e11-4507-d2da-b84a15b7a53c"
      },
      "source": [
        "df2 = pd.DataFrame({\"cities\": [\"MANGALORE\", \"MANGALORE\", \"MYSORE\", \"KARWAR\"], \"Population\": [\"100\", \"200\", \"300\",\"400\"]})\n",
        "df2"
      ],
      "execution_count": null,
      "outputs": [
        {
          "output_type": "execute_result",
          "data": {
            "text/html": [
              "<div>\n",
              "<style scoped>\n",
              "    .dataframe tbody tr th:only-of-type {\n",
              "        vertical-align: middle;\n",
              "    }\n",
              "\n",
              "    .dataframe tbody tr th {\n",
              "        vertical-align: top;\n",
              "    }\n",
              "\n",
              "    .dataframe thead th {\n",
              "        text-align: right;\n",
              "    }\n",
              "</style>\n",
              "<table border=\"1\" class=\"dataframe\">\n",
              "  <thead>\n",
              "    <tr style=\"text-align: right;\">\n",
              "      <th></th>\n",
              "      <th>cities</th>\n",
              "      <th>Population</th>\n",
              "    </tr>\n",
              "  </thead>\n",
              "  <tbody>\n",
              "    <tr>\n",
              "      <th>0</th>\n",
              "      <td>MANGALORE</td>\n",
              "      <td>100</td>\n",
              "    </tr>\n",
              "    <tr>\n",
              "      <th>1</th>\n",
              "      <td>MANGALORE</td>\n",
              "      <td>200</td>\n",
              "    </tr>\n",
              "    <tr>\n",
              "      <th>2</th>\n",
              "      <td>MYSORE</td>\n",
              "      <td>300</td>\n",
              "    </tr>\n",
              "    <tr>\n",
              "      <th>3</th>\n",
              "      <td>KARWAR</td>\n",
              "      <td>400</td>\n",
              "    </tr>\n",
              "  </tbody>\n",
              "</table>\n",
              "</div>"
            ],
            "text/plain": [
              "      cities Population\n",
              "0  MANGALORE        100\n",
              "1  MANGALORE        200\n",
              "2     MYSORE        300\n",
              "3     KARWAR        400"
            ]
          },
          "metadata": {
            "tags": []
          },
          "execution_count": 36
        }
      ]
    },
    {
      "cell_type": "code",
      "metadata": {
        "id": "qI70dCd6mEAg",
        "colab_type": "code",
        "colab": {},
        "outputId": "b91367d5-fc63-4b67-a1d8-2bacb73f10c0"
      },
      "source": [
        "df3 = pd.DataFrame({\"cities\": [\"MANGALORE\", \"MYSORE\"], \"Population\": [\"100\",\"700\"]})\n",
        "df3\n",
        "df.merge(df3, right_on='cities', left_on='Cities')"
      ],
      "execution_count": null,
      "outputs": [
        {
          "output_type": "execute_result",
          "data": {
            "text/html": [
              "<div>\n",
              "<style scoped>\n",
              "    .dataframe tbody tr th:only-of-type {\n",
              "        vertical-align: middle;\n",
              "    }\n",
              "\n",
              "    .dataframe tbody tr th {\n",
              "        vertical-align: top;\n",
              "    }\n",
              "\n",
              "    .dataframe thead th {\n",
              "        text-align: right;\n",
              "    }\n",
              "</style>\n",
              "<table border=\"1\" class=\"dataframe\">\n",
              "  <thead>\n",
              "    <tr style=\"text-align: right;\">\n",
              "      <th></th>\n",
              "      <th>Year</th>\n",
              "      <th>Result</th>\n",
              "      <th>Cities</th>\n",
              "      <th>diffrence</th>\n",
              "      <th>Serie_aligned</th>\n",
              "      <th>cities</th>\n",
              "      <th>Population</th>\n",
              "    </tr>\n",
              "  </thead>\n",
              "  <tbody>\n",
              "    <tr>\n",
              "      <th>0</th>\n",
              "      <td>2019</td>\n",
              "      <td>8.6</td>\n",
              "      <td>MANGALORE</td>\n",
              "      <td>234.767442</td>\n",
              "      <td>0.0</td>\n",
              "      <td>MANGALORE</td>\n",
              "      <td>100</td>\n",
              "    </tr>\n",
              "    <tr>\n",
              "      <th>1</th>\n",
              "      <td>2020</td>\n",
              "      <td>9.3</td>\n",
              "      <td>MANGALORE</td>\n",
              "      <td>217.204301</td>\n",
              "      <td>1.0</td>\n",
              "      <td>MANGALORE</td>\n",
              "      <td>100</td>\n",
              "    </tr>\n",
              "    <tr>\n",
              "      <th>2</th>\n",
              "      <td>2020</td>\n",
              "      <td>9.1</td>\n",
              "      <td>MYSORE</td>\n",
              "      <td>221.978022</td>\n",
              "      <td>5.0</td>\n",
              "      <td>MYSORE</td>\n",
              "      <td>700</td>\n",
              "    </tr>\n",
              "  </tbody>\n",
              "</table>\n",
              "</div>"
            ],
            "text/plain": [
              "   Year  Result     Cities   diffrence  Serie_aligned     cities Population\n",
              "0  2019     8.6  MANGALORE  234.767442            0.0  MANGALORE        100\n",
              "1  2020     9.3  MANGALORE  217.204301            1.0  MANGALORE        100\n",
              "2  2020     9.1     MYSORE  221.978022            5.0     MYSORE        700"
            ]
          },
          "metadata": {
            "tags": []
          },
          "execution_count": 37
        }
      ]
    },
    {
      "cell_type": "code",
      "metadata": {
        "id": "XrC7TygBmEAl",
        "colab_type": "code",
        "colab": {},
        "outputId": "70cdf92b-cf7e-4b31-878c-bdb28992f268"
      },
      "source": [
        "df4 = pd.DataFrame({\"Cities\": [\"MANGALORE\", \"BANGALORE\", \"KARWAR\"], \"Population\": [\"100\", \"200\", \"500\"]})\n",
        "df.merge(df4, how='outer')"
      ],
      "execution_count": null,
      "outputs": [
        {
          "output_type": "execute_result",
          "data": {
            "text/html": [
              "<div>\n",
              "<style scoped>\n",
              "    .dataframe tbody tr th:only-of-type {\n",
              "        vertical-align: middle;\n",
              "    }\n",
              "\n",
              "    .dataframe tbody tr th {\n",
              "        vertical-align: top;\n",
              "    }\n",
              "\n",
              "    .dataframe thead th {\n",
              "        text-align: right;\n",
              "    }\n",
              "</style>\n",
              "<table border=\"1\" class=\"dataframe\">\n",
              "  <thead>\n",
              "    <tr style=\"text-align: right;\">\n",
              "      <th></th>\n",
              "      <th>Year</th>\n",
              "      <th>Result</th>\n",
              "      <th>Cities</th>\n",
              "      <th>diffrence</th>\n",
              "      <th>Serie_aligned</th>\n",
              "      <th>Population</th>\n",
              "    </tr>\n",
              "  </thead>\n",
              "  <tbody>\n",
              "    <tr>\n",
              "      <th>0</th>\n",
              "      <td>2019</td>\n",
              "      <td>8.6</td>\n",
              "      <td>MANGALORE</td>\n",
              "      <td>234.767442</td>\n",
              "      <td>0.0</td>\n",
              "      <td>100</td>\n",
              "    </tr>\n",
              "    <tr>\n",
              "      <th>1</th>\n",
              "      <td>2020</td>\n",
              "      <td>9.3</td>\n",
              "      <td>MANGALORE</td>\n",
              "      <td>217.204301</td>\n",
              "      <td>1.0</td>\n",
              "      <td>100</td>\n",
              "    </tr>\n",
              "    <tr>\n",
              "      <th>2</th>\n",
              "      <td>2019</td>\n",
              "      <td>8.9</td>\n",
              "      <td>BANGALORE</td>\n",
              "      <td>226.853933</td>\n",
              "      <td>2.0</td>\n",
              "      <td>200</td>\n",
              "    </tr>\n",
              "    <tr>\n",
              "      <th>3</th>\n",
              "      <td>2020</td>\n",
              "      <td>9.8</td>\n",
              "      <td>BANGALORE</td>\n",
              "      <td>206.122449</td>\n",
              "      <td>3.0</td>\n",
              "      <td>200</td>\n",
              "    </tr>\n",
              "    <tr>\n",
              "      <th>4</th>\n",
              "      <td>2019</td>\n",
              "      <td>9.6</td>\n",
              "      <td>KARWAR</td>\n",
              "      <td>210.312500</td>\n",
              "      <td>4.0</td>\n",
              "      <td>500</td>\n",
              "    </tr>\n",
              "    <tr>\n",
              "      <th>5</th>\n",
              "      <td>2020</td>\n",
              "      <td>8.9</td>\n",
              "      <td>KARWAR</td>\n",
              "      <td>226.966292</td>\n",
              "      <td>NaN</td>\n",
              "      <td>500</td>\n",
              "    </tr>\n",
              "    <tr>\n",
              "      <th>6</th>\n",
              "      <td>2020</td>\n",
              "      <td>9.1</td>\n",
              "      <td>MYSORE</td>\n",
              "      <td>221.978022</td>\n",
              "      <td>5.0</td>\n",
              "      <td>NaN</td>\n",
              "    </tr>\n",
              "  </tbody>\n",
              "</table>\n",
              "</div>"
            ],
            "text/plain": [
              "   Year  Result     Cities   diffrence  Serie_aligned Population\n",
              "0  2019     8.6  MANGALORE  234.767442            0.0        100\n",
              "1  2020     9.3  MANGALORE  217.204301            1.0        100\n",
              "2  2019     8.9  BANGALORE  226.853933            2.0        200\n",
              "3  2020     9.8  BANGALORE  206.122449            3.0        200\n",
              "4  2019     9.6     KARWAR  210.312500            4.0        500\n",
              "5  2020     8.9     KARWAR  226.966292            NaN        500\n",
              "6  2020     9.1     MYSORE  221.978022            5.0        NaN"
            ]
          },
          "metadata": {
            "tags": []
          },
          "execution_count": 38
        }
      ]
    },
    {
      "cell_type": "code",
      "metadata": {
        "id": "CF38TtURmEAp",
        "colab_type": "code",
        "colab": {},
        "outputId": "721953d3-b29f-4f2e-8ebc-dc65b792609c"
      },
      "source": [
        "df5 = pd.DataFrame({\"Cities\": [\"BANGALORE\", \"MYSORE\", \"KARWAR\"], \"Population\": [\"100\", \"200\", \"500\"]})\n",
        "print(df)\n",
        "df.merge(df5, how='outer')"
      ],
      "execution_count": null,
      "outputs": [
        {
          "output_type": "stream",
          "text": [
            "   Year  Result     Cities   diffrence  Serie_aligned\n",
            "0  2019     8.6  MANGALORE  234.767442            0.0\n",
            "1  2020     9.3  MANGALORE  217.204301            1.0\n",
            "2  2019     8.9  BANGALORE  226.853933            2.0\n",
            "3  2020     9.8  BANGALORE  206.122449            3.0\n",
            "4  2019     9.6     KARWAR  210.312500            4.0\n",
            "5  2020     8.9     KARWAR  226.966292            NaN\n",
            "6  2020     9.1     MYSORE  221.978022            5.0\n"
          ],
          "name": "stdout"
        },
        {
          "output_type": "execute_result",
          "data": {
            "text/html": [
              "<div>\n",
              "<style scoped>\n",
              "    .dataframe tbody tr th:only-of-type {\n",
              "        vertical-align: middle;\n",
              "    }\n",
              "\n",
              "    .dataframe tbody tr th {\n",
              "        vertical-align: top;\n",
              "    }\n",
              "\n",
              "    .dataframe thead th {\n",
              "        text-align: right;\n",
              "    }\n",
              "</style>\n",
              "<table border=\"1\" class=\"dataframe\">\n",
              "  <thead>\n",
              "    <tr style=\"text-align: right;\">\n",
              "      <th></th>\n",
              "      <th>Year</th>\n",
              "      <th>Result</th>\n",
              "      <th>Cities</th>\n",
              "      <th>diffrence</th>\n",
              "      <th>Serie_aligned</th>\n",
              "      <th>Population</th>\n",
              "    </tr>\n",
              "  </thead>\n",
              "  <tbody>\n",
              "    <tr>\n",
              "      <th>0</th>\n",
              "      <td>2019</td>\n",
              "      <td>8.6</td>\n",
              "      <td>MANGALORE</td>\n",
              "      <td>234.767442</td>\n",
              "      <td>0.0</td>\n",
              "      <td>NaN</td>\n",
              "    </tr>\n",
              "    <tr>\n",
              "      <th>1</th>\n",
              "      <td>2020</td>\n",
              "      <td>9.3</td>\n",
              "      <td>MANGALORE</td>\n",
              "      <td>217.204301</td>\n",
              "      <td>1.0</td>\n",
              "      <td>NaN</td>\n",
              "    </tr>\n",
              "    <tr>\n",
              "      <th>2</th>\n",
              "      <td>2019</td>\n",
              "      <td>8.9</td>\n",
              "      <td>BANGALORE</td>\n",
              "      <td>226.853933</td>\n",
              "      <td>2.0</td>\n",
              "      <td>100</td>\n",
              "    </tr>\n",
              "    <tr>\n",
              "      <th>3</th>\n",
              "      <td>2020</td>\n",
              "      <td>9.8</td>\n",
              "      <td>BANGALORE</td>\n",
              "      <td>206.122449</td>\n",
              "      <td>3.0</td>\n",
              "      <td>100</td>\n",
              "    </tr>\n",
              "    <tr>\n",
              "      <th>4</th>\n",
              "      <td>2019</td>\n",
              "      <td>9.6</td>\n",
              "      <td>KARWAR</td>\n",
              "      <td>210.312500</td>\n",
              "      <td>4.0</td>\n",
              "      <td>500</td>\n",
              "    </tr>\n",
              "    <tr>\n",
              "      <th>5</th>\n",
              "      <td>2020</td>\n",
              "      <td>8.9</td>\n",
              "      <td>KARWAR</td>\n",
              "      <td>226.966292</td>\n",
              "      <td>NaN</td>\n",
              "      <td>500</td>\n",
              "    </tr>\n",
              "    <tr>\n",
              "      <th>6</th>\n",
              "      <td>2020</td>\n",
              "      <td>9.1</td>\n",
              "      <td>MYSORE</td>\n",
              "      <td>221.978022</td>\n",
              "      <td>5.0</td>\n",
              "      <td>200</td>\n",
              "    </tr>\n",
              "  </tbody>\n",
              "</table>\n",
              "</div>"
            ],
            "text/plain": [
              "   Year  Result     Cities   diffrence  Serie_aligned Population\n",
              "0  2019     8.6  MANGALORE  234.767442            0.0        NaN\n",
              "1  2020     9.3  MANGALORE  217.204301            1.0        NaN\n",
              "2  2019     8.9  BANGALORE  226.853933            2.0        100\n",
              "3  2020     9.8  BANGALORE  206.122449            3.0        100\n",
              "4  2019     9.6     KARWAR  210.312500            4.0        500\n",
              "5  2020     8.9     KARWAR  226.966292            NaN        500\n",
              "6  2020     9.1     MYSORE  221.978022            5.0        200"
            ]
          },
          "metadata": {
            "tags": []
          },
          "execution_count": 39
        }
      ]
    },
    {
      "cell_type": "code",
      "metadata": {
        "id": "QXg8VoGrmEAu",
        "colab_type": "code",
        "colab": {}
      },
      "source": [
        "serie_m = pd.Series([5.2 , np.nan, np.nan, 8.6, np.nan, 8.5],\n",
        "                     index=['p', 'e', 'q', 'c', 'r', 'a'])\n",
        "serie_n = pd.Series(np.arange(len(serie_m), dtype=np.float64),\n",
        "                 index=['p', 'e', 'q', 'c', 'r', 'a'])"
      ],
      "execution_count": null,
      "outputs": []
    },
    {
      "cell_type": "code",
      "metadata": {
        "id": "ytFKqVJymEAz",
        "colab_type": "code",
        "colab": {},
        "outputId": "82aed383-c2af-46a0-e864-ecae9101521a"
      },
      "source": [
        "serie_m"
      ],
      "execution_count": null,
      "outputs": [
        {
          "output_type": "execute_result",
          "data": {
            "text/plain": [
              "p    5.2\n",
              "e    NaN\n",
              "q    NaN\n",
              "c    8.6\n",
              "r    NaN\n",
              "a    8.5\n",
              "dtype: float64"
            ]
          },
          "metadata": {
            "tags": []
          },
          "execution_count": 41
        }
      ]
    },
    {
      "cell_type": "code",
      "metadata": {
        "id": "meY6La0_mEA6",
        "colab_type": "code",
        "colab": {},
        "outputId": "33d24db7-c823-4802-9738-375c66a3b980"
      },
      "source": [
        "serie_n"
      ],
      "execution_count": null,
      "outputs": [
        {
          "output_type": "execute_result",
          "data": {
            "text/plain": [
              "p    0.0\n",
              "e    1.0\n",
              "q    2.0\n",
              "c    3.0\n",
              "r    4.0\n",
              "a    5.0\n",
              "dtype: float64"
            ]
          },
          "metadata": {
            "tags": []
          },
          "execution_count": 42
        }
      ]
    },
    {
      "cell_type": "code",
      "metadata": {
        "id": "SjIOZzzrmEA_",
        "colab_type": "code",
        "colab": {},
        "outputId": "64e266a5-040c-407c-b158-fd64d5c5ee14"
      },
      "source": [
        "serie_m.combine_first(serie_n)"
      ],
      "execution_count": null,
      "outputs": [
        {
          "output_type": "execute_result",
          "data": {
            "text/plain": [
              "p    5.2\n",
              "e    1.0\n",
              "q    2.0\n",
              "c    8.6\n",
              "r    4.0\n",
              "a    8.5\n",
              "dtype: float64"
            ]
          },
          "metadata": {
            "tags": []
          },
          "execution_count": 43
        }
      ]
    }
  ]
}